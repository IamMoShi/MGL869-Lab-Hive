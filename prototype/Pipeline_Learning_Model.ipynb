{
 "cells": [
  {
   "cell_type": "markdown",
   "id": "6b4a268e-25c2-46f7-9597-4c8394734f49",
   "metadata": {},
   "source": [
    "# Importer les packages"
   ]
  },
  {
   "cell_type": "code",
   "execution_count": 158,
   "id": "ecdb6678-99c6-457c-a8ca-8ca0d8661244",
   "metadata": {},
   "outputs": [],
   "source": [
    "import pandas as pd\n",
    "import random\n",
    "from sklearn.linear_model import LogisticRegression\n",
    "from sklearn.model_selection import train_test_split\n",
    "from sklearn.ensemble import RandomForestClassifier\n",
    "from sklearn.metrics import accuracy_score, confusion_matrix, classification_report, roc_auc_score"
   ]
  },
  {
   "cell_type": "markdown",
   "id": "9c383e0f-3536-4c75-97bb-85b7eff40be8",
   "metadata": {},
   "source": [
    "# Charger les données\n",
    "\n",
    "La dernière colonne `Bug` est créée de manière aléatoire : elle prend la valeur 1 si il y a un bug et 0 sinon."
   ]
  },
  {
   "cell_type": "code",
   "execution_count": 159,
   "id": "d6d08028-c331-4009-950b-597b9f925c42",
   "metadata": {
    "scrolled": true
   },
   "outputs": [
    {
     "data": {
      "text/html": [
       "<div>\n",
       "<style scoped>\n",
       "    .dataframe tbody tr th:only-of-type {\n",
       "        vertical-align: middle;\n",
       "    }\n",
       "\n",
       "    .dataframe tbody tr th {\n",
       "        vertical-align: top;\n",
       "    }\n",
       "\n",
       "    .dataframe thead th {\n",
       "        text-align: right;\n",
       "    }\n",
       "</style>\n",
       "<table border=\"1\" class=\"dataframe\">\n",
       "  <thead>\n",
       "    <tr style=\"text-align: right;\">\n",
       "      <th></th>\n",
       "      <th>Version</th>\n",
       "      <th>CommitId</th>\n",
       "      <th>Fichier</th>\n",
       "      <th>AvgCyclomatic</th>\n",
       "      <th>AvgCyclomaticModified</th>\n",
       "      <th>Bug</th>\n",
       "    </tr>\n",
       "  </thead>\n",
       "  <tbody>\n",
       "    <tr>\n",
       "      <th>2.1.0</th>\n",
       "      <td>id1</td>\n",
       "      <td>f1</td>\n",
       "      <td>21</td>\n",
       "      <td>41</td>\n",
       "      <td>209</td>\n",
       "      <td>0</td>\n",
       "    </tr>\n",
       "    <tr>\n",
       "      <th>2.2.0</th>\n",
       "      <td>id1</td>\n",
       "      <td>f2</td>\n",
       "      <td>91</td>\n",
       "      <td>4</td>\n",
       "      <td>9</td>\n",
       "      <td>1</td>\n",
       "    </tr>\n",
       "    <tr>\n",
       "      <th>2.3.0</th>\n",
       "      <td>id2</td>\n",
       "      <td>f1</td>\n",
       "      <td>31</td>\n",
       "      <td>51</td>\n",
       "      <td>19</td>\n",
       "      <td>1</td>\n",
       "    </tr>\n",
       "    <tr>\n",
       "      <th>2.4.0</th>\n",
       "      <td>id3</td>\n",
       "      <td>f2</td>\n",
       "      <td>41</td>\n",
       "      <td>41</td>\n",
       "      <td>9</td>\n",
       "      <td>0</td>\n",
       "    </tr>\n",
       "    <tr>\n",
       "      <th>2.5.0</th>\n",
       "      <td>id1</td>\n",
       "      <td>f1</td>\n",
       "      <td>21</td>\n",
       "      <td>41</td>\n",
       "      <td>209</td>\n",
       "      <td>0</td>\n",
       "    </tr>\n",
       "    <tr>\n",
       "      <th>2.6.0</th>\n",
       "      <td>id1</td>\n",
       "      <td>f2</td>\n",
       "      <td>91</td>\n",
       "      <td>4</td>\n",
       "      <td>9</td>\n",
       "      <td>1</td>\n",
       "    </tr>\n",
       "    <tr>\n",
       "      <th>2.7.0</th>\n",
       "      <td>id2</td>\n",
       "      <td>f1</td>\n",
       "      <td>31</td>\n",
       "      <td>51</td>\n",
       "      <td>19</td>\n",
       "      <td>1</td>\n",
       "    </tr>\n",
       "    <tr>\n",
       "      <th>2.8.0</th>\n",
       "      <td>id3</td>\n",
       "      <td>f2</td>\n",
       "      <td>41</td>\n",
       "      <td>41</td>\n",
       "      <td>9</td>\n",
       "      <td>0</td>\n",
       "    </tr>\n",
       "  </tbody>\n",
       "</table>\n",
       "</div>"
      ],
      "text/plain": [
       "      Version CommitId  Fichier  AvgCyclomatic  AvgCyclomaticModified  Bug\n",
       "2.1.0     id1       f1       21             41                    209    0\n",
       "2.2.0     id1       f2       91              4                      9    1\n",
       "2.3.0     id2       f1       31             51                     19    1\n",
       "2.4.0     id3       f2       41             41                      9    0\n",
       "2.5.0     id1       f1       21             41                    209    0\n",
       "2.6.0     id1       f2       91              4                      9    1\n",
       "2.7.0     id2       f1       31             51                     19    1\n",
       "2.8.0     id3       f2       41             41                      9    0"
      ]
     },
     "execution_count": 159,
     "metadata": {},
     "output_type": "execute_result"
    }
   ],
   "source": [
    "data = pd.read_csv('file.csv')\n",
    "data['Bug'] = data[\"Fichier\"]//10%2\n",
    "data"
   ]
  },
  {
   "cell_type": "markdown",
   "id": "917ff802-7901-407e-b20c-c2d31903dff2",
   "metadata": {},
   "source": [
    "# Préparation des variables\n",
    "Modifier les variables indépendantes en fonction de la table. On ne prend pas en compte la version et l'id des commits dans le modèle."
   ]
  },
  {
   "cell_type": "code",
   "execution_count": 160,
   "id": "b0a30960-3970-4c5e-b0c7-80e65f1a6c18",
   "metadata": {},
   "outputs": [],
   "source": [
    "X = data.drop(columns=['Bug','Version','CommitId']) # variables indépendantes, à modifier\n",
    "y = data['Bug'] # présence d'un bug"
   ]
  },
  {
   "cell_type": "markdown",
   "id": "e4df17cd-dbb9-4d26-a7f3-0c1176d53bed",
   "metadata": {},
   "source": [
    "# Données d'entraînements et de test\n",
    "Modifier test_size à **0.2** pour 20% de test, et 80% de train"
   ]
  },
  {
   "cell_type": "code",
   "execution_count": 173,
   "id": "a058716b-ecc1-4b02-a201-f86b026f7e34",
   "metadata": {},
   "outputs": [],
   "source": [
    "X_train, X_test, y_train, y_test = train_test_split(X, y, test_size=0.5, random_state=42, stratify=y)"
   ]
  },
  {
   "cell_type": "markdown",
   "id": "5382fbb5-fcfd-4121-95fa-a2d4b6512cfc",
   "metadata": {},
   "source": [
    "# Entrainement du modèle"
   ]
  },
  {
   "cell_type": "code",
   "execution_count": 174,
   "id": "91850aee-69dd-4e5a-a2da-565631d71047",
   "metadata": {},
   "outputs": [
    {
     "name": "stdout",
     "output_type": "stream",
     "text": [
      "Bug\n",
      "1    2\n",
      "0    2\n",
      "Name: count, dtype: int64\n"
     ]
    }
   ],
   "source": [
    "model1 = LogisticRegression()\n",
    "model2 = RandomForestClassifier(n_estimators=100, random_state=42)\n",
    "\n",
    "model1.fit(X_train, y_train)\n",
    "model2.fit(X_train, y_train)\n",
    "\n",
    "print(y_train.value_counts())"
   ]
  },
  {
   "cell_type": "markdown",
   "id": "553b34e6-05ac-4839-8884-dcc0cb9d07f9",
   "metadata": {},
   "source": [
    "# Prédictions"
   ]
  },
  {
   "cell_type": "code",
   "execution_count": 175,
   "id": "10afef7f-845c-4125-839d-45783e217890",
   "metadata": {},
   "outputs": [
    {
     "name": "stdout",
     "output_type": "stream",
     "text": [
      "Prédictions logistic regression : [1 1 0 0]\n",
      "Valeurs réelles : [0 0 1 1]\n",
      "Prédictions random forest : [1 1 0 0]\n",
      "Valeurs réelles : [0 0 1 1]\n"
     ]
    }
   ],
   "source": [
    "y_pred1 = model1.predict(X_test)\n",
    "print(\"Prédictions logistic regression :\", y_pred1)\n",
    "print(\"Valeurs réelles :\", y_test.values)\n",
    "y_pred2 = model2.predict(X_test)\n",
    "print(\"Prédictions random forest :\", y_pred2)\n",
    "print(\"Valeurs réelles :\", y_test.values)"
   ]
  },
  {
   "cell_type": "code",
   "execution_count": 176,
   "id": "b2e1e60a-dc00-4f34-84ee-286b77fb6898",
   "metadata": {},
   "outputs": [],
   "source": [
    "# Calcul de l'AUC pour chaque modèle\n",
    "auc1 = roc_auc_score(y_test, y_pred1)\n",
    "auc2 = roc_auc_score(y_test, y_pred2)"
   ]
  },
  {
   "cell_type": "markdown",
   "id": "3e466638-6cd6-42c3-a7f1-ded17c183e9e",
   "metadata": {},
   "source": [
    "# Evaluer la performance du modèle"
   ]
  },
  {
   "cell_type": "code",
   "execution_count": 177,
   "id": "dd3af11c-29cf-4395-953e-65c3edfe5c94",
   "metadata": {},
   "outputs": [
    {
     "name": "stdout",
     "output_type": "stream",
     "text": [
      "Accuracy logistic regression: 0.0\n",
      "              precision    recall  f1-score   support\n",
      "\n",
      "           0       0.00      0.00      0.00       2.0\n",
      "           1       0.00      0.00      0.00       2.0\n",
      "\n",
      "    accuracy                           0.00       4.0\n",
      "   macro avg       0.00      0.00      0.00       4.0\n",
      "weighted avg       0.00      0.00      0.00       4.0\n",
      "\n",
      "AUC Logistic Regression: 0.0\n",
      "------------------------------------------------------------\n",
      "Accuracy random forest: 0.0\n",
      "              precision    recall  f1-score   support\n",
      "\n",
      "           0       0.00      0.00      0.00       2.0\n",
      "           1       0.00      0.00      0.00       2.0\n",
      "\n",
      "    accuracy                           0.00       4.0\n",
      "   macro avg       0.00      0.00      0.00       4.0\n",
      "weighted avg       0.00      0.00      0.00       4.0\n",
      "\n",
      "AUC Random Forest: 0.0\n"
     ]
    }
   ],
   "source": [
    "accuracy = accuracy_score(y_test, y_pred1)\n",
    "print(f\"Accuracy logistic regression: {accuracy}\")\n",
    "print(classification_report(y_test, y_pred1))\n",
    "print(f\"AUC Logistic Regression: {auc1}\")\n",
    "print(\"-\"*60)\n",
    "\n",
    "accuracy = accuracy_score(y_test, y_pred2)\n",
    "print(f\"Accuracy random forest: {accuracy}\")\n",
    "print(classification_report(y_test, y_pred2))\n",
    "print(f\"AUC Random Forest: {auc2}\")"
   ]
  },
  {
   "cell_type": "code",
   "execution_count": 178,
   "id": "88cd5ea8-9c91-42ac-8a5f-02d359565d8a",
   "metadata": {},
   "outputs": [
    {
     "name": "stdout",
     "output_type": "stream",
     "text": [
      "Indices de X_train : Index(['2.7.0', '2.4.0', '2.8.0', '2.3.0'], dtype='object')\n",
      "Indices de X_test : Index(['2.5.0', '2.1.0', '2.6.0', '2.2.0'], dtype='object')\n"
     ]
    }
   ],
   "source": [
    "print(\"Indices de X_train :\", X_train.index)\n",
    "print(\"Indices de X_test :\", X_test.index)"
   ]
  }
 ],
 "metadata": {
  "kernelspec": {
   "display_name": "Python 3 (ipykernel)",
   "language": "python",
   "name": "python3"
  },
  "language_info": {
   "codemirror_mode": {
    "name": "ipython",
    "version": 3
   },
   "file_extension": ".py",
   "mimetype": "text/x-python",
   "name": "python",
   "nbconvert_exporter": "python",
   "pygments_lexer": "ipython3",
   "version": "3.11.6"
  }
 },
 "nbformat": 4,
 "nbformat_minor": 5
}
