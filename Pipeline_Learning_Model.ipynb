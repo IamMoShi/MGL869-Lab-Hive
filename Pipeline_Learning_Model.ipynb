{
 "cells": [
  {
   "cell_type": "markdown",
   "id": "6b4a268e-25c2-46f7-9597-4c8394734f49",
   "metadata": {},
   "source": [
    "# Importer les packages"
   ]
  },
  {
   "cell_type": "code",
   "execution_count": 8,
   "id": "ecdb6678-99c6-457c-a8ca-8ca0d8661244",
   "metadata": {},
   "outputs": [],
   "source": [
    "import pandas as pd\n",
    "import matplotlib.pyplot as plt\n",
    "import shap\n",
    "import random\n",
    "from sklearn.linear_model import LogisticRegression\n",
    "from sklearn.model_selection import train_test_split, KFold\n",
    "from sklearn.ensemble import RandomForestClassifier\n",
    "from sklearn.metrics import accuracy_score, confusion_matrix, classification_report, roc_auc_score"
   ]
  },
  {
   "cell_type": "markdown",
   "id": "9c383e0f-3536-4c75-97bb-85b7eff40be8",
   "metadata": {},
   "source": [
    "# Charger les données\n",
    "\n",
    "Les données sont chargées, et les colonnes comportants des nombres flottants sont réadapter pour pandas."
   ]
  },
  {
   "cell_type": "code",
   "execution_count": 4,
   "id": "d6d08028-c331-4009-950b-597b9f925c42",
   "metadata": {
    "scrolled": true
   },
   "outputs": [
    {
     "data": {
      "text/html": [
       "<div>\n",
       "<style scoped>\n",
       "    .dataframe tbody tr th:only-of-type {\n",
       "        vertical-align: middle;\n",
       "    }\n",
       "\n",
       "    .dataframe tbody tr th {\n",
       "        vertical-align: top;\n",
       "    }\n",
       "\n",
       "    .dataframe thead th {\n",
       "        text-align: right;\n",
       "    }\n",
       "</style>\n",
       "<table border=\"1\" class=\"dataframe\">\n",
       "  <thead>\n",
       "    <tr style=\"text-align: right;\">\n",
       "      <th></th>\n",
       "      <th>Version</th>\n",
       "      <th>CommitId</th>\n",
       "      <th>Name</th>\n",
       "      <th>AvgCountLine</th>\n",
       "      <th>AvgCountLineBlank</th>\n",
       "      <th>AvgCountLineCode</th>\n",
       "      <th>AvgCountLineComment</th>\n",
       "      <th>AvgCyclomatic</th>\n",
       "      <th>CountClassBase</th>\n",
       "      <th>CountClassCoupled</th>\n",
       "      <th>...</th>\n",
       "      <th>CountDeclMethodConst</th>\n",
       "      <th>CountDeclMethodFriend</th>\n",
       "      <th>CountLineInactive</th>\n",
       "      <th>CountLinePreprocessor</th>\n",
       "      <th>CountStmtEmpty</th>\n",
       "      <th>CountCCViol</th>\n",
       "      <th>CountCCViolType</th>\n",
       "      <th>CCViolDensityLine</th>\n",
       "      <th>CCViolDensityCode</th>\n",
       "      <th>BugStatus</th>\n",
       "    </tr>\n",
       "  </thead>\n",
       "  <tbody>\n",
       "    <tr>\n",
       "      <th>0</th>\n",
       "      <td>release-2.0.0</td>\n",
       "      <td>f90366404453ad9a42ed389f89dc7a23ccaa863c</td>\n",
       "      <td>AMReporter.java</td>\n",
       "      <td>11</td>\n",
       "      <td>0</td>\n",
       "      <td>11</td>\n",
       "      <td>0</td>\n",
       "      <td>2</td>\n",
       "      <td>NaN</td>\n",
       "      <td>NaN</td>\n",
       "      <td>...</td>\n",
       "      <td>NaN</td>\n",
       "      <td>NaN</td>\n",
       "      <td>NaN</td>\n",
       "      <td>NaN</td>\n",
       "      <td>NaN</td>\n",
       "      <td>0</td>\n",
       "      <td>0</td>\n",
       "      <td>0.0</td>\n",
       "      <td>0.0</td>\n",
       "      <td>0</td>\n",
       "    </tr>\n",
       "    <tr>\n",
       "      <th>1</th>\n",
       "      <td>release-2.0.0</td>\n",
       "      <td>f90366404453ad9a42ed389f89dc7a23ccaa863c</td>\n",
       "      <td>ASTBuilder.java</td>\n",
       "      <td>13</td>\n",
       "      <td>0</td>\n",
       "      <td>12</td>\n",
       "      <td>0</td>\n",
       "      <td>4</td>\n",
       "      <td>NaN</td>\n",
       "      <td>NaN</td>\n",
       "      <td>...</td>\n",
       "      <td>NaN</td>\n",
       "      <td>NaN</td>\n",
       "      <td>NaN</td>\n",
       "      <td>NaN</td>\n",
       "      <td>NaN</td>\n",
       "      <td>0</td>\n",
       "      <td>0</td>\n",
       "      <td>0.0</td>\n",
       "      <td>0.0</td>\n",
       "      <td>1</td>\n",
       "    </tr>\n",
       "    <tr>\n",
       "      <th>2</th>\n",
       "      <td>release-2.0.0</td>\n",
       "      <td>f90366404453ad9a42ed389f89dc7a23ccaa863c</td>\n",
       "      <td>ASTConverter.java</td>\n",
       "      <td>17</td>\n",
       "      <td>1</td>\n",
       "      <td>14</td>\n",
       "      <td>2</td>\n",
       "      <td>3</td>\n",
       "      <td>NaN</td>\n",
       "      <td>NaN</td>\n",
       "      <td>...</td>\n",
       "      <td>NaN</td>\n",
       "      <td>NaN</td>\n",
       "      <td>NaN</td>\n",
       "      <td>NaN</td>\n",
       "      <td>NaN</td>\n",
       "      <td>0</td>\n",
       "      <td>0</td>\n",
       "      <td>0.0</td>\n",
       "      <td>0.0</td>\n",
       "      <td>1</td>\n",
       "    </tr>\n",
       "    <tr>\n",
       "      <th>3</th>\n",
       "      <td>release-2.0.0</td>\n",
       "      <td>f90366404453ad9a42ed389f89dc7a23ccaa863c</td>\n",
       "      <td>ASTErrorNode.java</td>\n",
       "      <td>2</td>\n",
       "      <td>0</td>\n",
       "      <td>2</td>\n",
       "      <td>0</td>\n",
       "      <td>1</td>\n",
       "      <td>NaN</td>\n",
       "      <td>NaN</td>\n",
       "      <td>...</td>\n",
       "      <td>NaN</td>\n",
       "      <td>NaN</td>\n",
       "      <td>NaN</td>\n",
       "      <td>NaN</td>\n",
       "      <td>NaN</td>\n",
       "      <td>0</td>\n",
       "      <td>0</td>\n",
       "      <td>0.0</td>\n",
       "      <td>0.0</td>\n",
       "      <td>0</td>\n",
       "    </tr>\n",
       "    <tr>\n",
       "      <th>4</th>\n",
       "      <td>release-2.0.0</td>\n",
       "      <td>f90366404453ad9a42ed389f89dc7a23ccaa863c</td>\n",
       "      <td>ASTNode.java</td>\n",
       "      <td>10</td>\n",
       "      <td>1</td>\n",
       "      <td>8</td>\n",
       "      <td>1</td>\n",
       "      <td>2</td>\n",
       "      <td>NaN</td>\n",
       "      <td>NaN</td>\n",
       "      <td>...</td>\n",
       "      <td>NaN</td>\n",
       "      <td>NaN</td>\n",
       "      <td>NaN</td>\n",
       "      <td>NaN</td>\n",
       "      <td>NaN</td>\n",
       "      <td>0</td>\n",
       "      <td>0</td>\n",
       "      <td>0.0</td>\n",
       "      <td>0.0</td>\n",
       "      <td>1</td>\n",
       "    </tr>\n",
       "  </tbody>\n",
       "</table>\n",
       "<p>5 rows × 61 columns</p>\n",
       "</div>"
      ],
      "text/plain": [
       "         Version                                  CommitId               Name  \\\n",
       "0  release-2.0.0  f90366404453ad9a42ed389f89dc7a23ccaa863c    AMReporter.java   \n",
       "1  release-2.0.0  f90366404453ad9a42ed389f89dc7a23ccaa863c    ASTBuilder.java   \n",
       "2  release-2.0.0  f90366404453ad9a42ed389f89dc7a23ccaa863c  ASTConverter.java   \n",
       "3  release-2.0.0  f90366404453ad9a42ed389f89dc7a23ccaa863c  ASTErrorNode.java   \n",
       "4  release-2.0.0  f90366404453ad9a42ed389f89dc7a23ccaa863c       ASTNode.java   \n",
       "\n",
       "   AvgCountLine  AvgCountLineBlank  AvgCountLineCode  AvgCountLineComment  \\\n",
       "0            11                  0                11                    0   \n",
       "1            13                  0                12                    0   \n",
       "2            17                  1                14                    2   \n",
       "3             2                  0                 2                    0   \n",
       "4            10                  1                 8                    1   \n",
       "\n",
       "   AvgCyclomatic  CountClassBase  CountClassCoupled  ...  \\\n",
       "0              2             NaN                NaN  ...   \n",
       "1              4             NaN                NaN  ...   \n",
       "2              3             NaN                NaN  ...   \n",
       "3              1             NaN                NaN  ...   \n",
       "4              2             NaN                NaN  ...   \n",
       "\n",
       "   CountDeclMethodConst  CountDeclMethodFriend  CountLineInactive  \\\n",
       "0                   NaN                    NaN                NaN   \n",
       "1                   NaN                    NaN                NaN   \n",
       "2                   NaN                    NaN                NaN   \n",
       "3                   NaN                    NaN                NaN   \n",
       "4                   NaN                    NaN                NaN   \n",
       "\n",
       "   CountLinePreprocessor  CountStmtEmpty  CountCCViol  CountCCViolType  \\\n",
       "0                    NaN             NaN            0                0   \n",
       "1                    NaN             NaN            0                0   \n",
       "2                    NaN             NaN            0                0   \n",
       "3                    NaN             NaN            0                0   \n",
       "4                    NaN             NaN            0                0   \n",
       "\n",
       "   CCViolDensityLine  CCViolDensityCode  BugStatus  \n",
       "0                0.0                0.0          0  \n",
       "1                0.0                0.0          1  \n",
       "2                0.0                0.0          1  \n",
       "3                0.0                0.0          0  \n",
       "4                0.0                0.0          1  \n",
       "\n",
       "[5 rows x 61 columns]"
      ]
     },
     "execution_count": 4,
     "metadata": {},
     "output_type": "execute_result"
    }
   ],
   "source": [
    "data = pd.read_csv('labeled_full_metrics_release-2.0.0.csv')\n",
    "liste = ['CCViolDensityLine','CCViolDensityCode','RatioCommentToCode']\n",
    "for elm in liste:\n",
    "    data[elm] = data[elm].str.replace(',', '.').astype(float)\n",
    "data.head(5)"
   ]
  },
  {
   "cell_type": "markdown",
   "id": "917ff802-7901-407e-b20c-c2d31903dff2",
   "metadata": {},
   "source": [
    "# Préparation des variables\n",
    "La version du commit, son id et le nom du fichier n'est pas pris en compte dans l'entraînement du modèle. Toutes les colonnes comportant un `NaN` sont inutilisables et supprimées."
   ]
  },
  {
   "cell_type": "code",
   "execution_count": 5,
   "id": "b0a30960-3970-4c5e-b0c7-80e65f1a6c18",
   "metadata": {},
   "outputs": [],
   "source": [
    "X = data.drop(columns=['BugStatus','Version','CommitId', 'Name']) # variables indépendantes\n",
    "X = X.dropna(axis=1)\n",
    "y = data['BugStatus'] # présence d'un bug"
   ]
  },
  {
   "cell_type": "markdown",
   "id": "e4df17cd-dbb9-4d26-a7f3-0c1176d53bed",
   "metadata": {},
   "source": [
    "# Données d'entraînements et de test\n",
    "L'ensemble des données est divisé en 5 parties égales sur lesquelles le modèle s'entraîne. La validation est réalisée [de manière croisée](https://medium.com/@tubelwj/five-methods-for-data-splitting-in-machine-learning-27baa50908ed) pour déterminer plus précisément l'efficacité de notre modèle."
   ]
  },
  {
   "cell_type": "code",
   "execution_count": 20,
   "id": "a058716b-ecc1-4b02-a201-f86b026f7e34",
   "metadata": {},
   "outputs": [],
   "source": [
    "kf = KFold(n_splits=5, shuffle=True, random_state=42)\n",
    "for train_index, val_index in kf.split(X):\n",
    "    X_train, X_test = X.iloc[train_index], X.iloc[val_index]\n",
    "    y_train, y_test = y.iloc[train_index], y.iloc[val_index]"
   ]
  },
  {
   "cell_type": "markdown",
   "id": "5382fbb5-fcfd-4121-95fa-a2d4b6512cfc",
   "metadata": {},
   "source": [
    "# Entrainement du modèle\n",
    "\n",
    "Comparaison entre la régression logistique et la forêt aléatoire."
   ]
  },
  {
   "cell_type": "code",
   "execution_count": 21,
   "id": "91850aee-69dd-4e5a-a2da-565631d71047",
   "metadata": {},
   "outputs": [
    {
     "name": "stderr",
     "output_type": "stream",
     "text": [
      "C:\\Users\\yanth\\VSCodeProjects\\MGL869-Lab-Hive\\venv\\lib\\site-packages\\sklearn\\linear_model\\_logistic.py:469: ConvergenceWarning: lbfgs failed to converge (status=1):\n",
      "STOP: TOTAL NO. of ITERATIONS REACHED LIMIT.\n",
      "\n",
      "Increase the number of iterations (max_iter) or scale the data as shown in:\n",
      "    https://scikit-learn.org/stable/modules/preprocessing.html\n",
      "Please also refer to the documentation for alternative solver options:\n",
      "    https://scikit-learn.org/stable/modules/linear_model.html#logistic-regression\n",
      "  n_iter_i = _check_optimize_result(\n"
     ]
    },
    {
     "name": "stdout",
     "output_type": "stream",
     "text": [
      "BugStatus\n",
      "0    3088\n",
      "1     557\n",
      "Name: count, dtype: int64\n"
     ]
    }
   ],
   "source": [
    "model1 = LogisticRegression()\n",
    "model2 = RandomForestClassifier(n_estimators=100, random_state=42)\n",
    "\n",
    "model1.fit(X_train, y_train)\n",
    "model2.fit(X_train, y_train)"
   ]
  },
  {
   "cell_type": "markdown",
   "id": "553b34e6-05ac-4839-8884-dcc0cb9d07f9",
   "metadata": {},
   "source": [
    "# Prédictions"
   ]
  },
  {
   "cell_type": "code",
   "execution_count": 31,
   "id": "10afef7f-845c-4125-839d-45783e217890",
   "metadata": {},
   "outputs": [
    {
     "name": "stdout",
     "output_type": "stream",
     "text": [
      "Prédictions logistic regression : [0 0 0 0 0] ..\n",
      "Prédictions random forest : [0 0 0 1 0] ..\n",
      "Valeurs réelles : [0 1 0 0 0] ..\n"
     ]
    }
   ],
   "source": [
    "y_pred1 = model1.predict(X_test)\n",
    "print(\"Prédictions logistic regression :\", y_pred1[:5],\"..\")\n",
    "y_pred2 = model2.predict(X_test)\n",
    "print(\"Prédictions random forest :\", y_pred2[:5],\"..\")\n",
    "print(\"Valeurs réelles :\", y_test.values[:5],\"..\")"
   ]
  },
  {
   "cell_type": "markdown",
   "id": "3e466638-6cd6-42c3-a7f1-ded17c183e9e",
   "metadata": {},
   "source": [
    "# Evaluer la performance du modèle\n",
    "\n",
    "Les 2 modèles sont comparés par leur AUC, leur précision et leur taux de rappel. La **forêt aléatoire** est un meilleur modèle pour la détermination de la présence de bugs dans un commit."
   ]
  },
  {
   "cell_type": "code",
   "execution_count": 35,
   "id": "dd3af11c-29cf-4395-953e-65c3edfe5c94",
   "metadata": {},
   "outputs": [
    {
     "name": "stdout",
     "output_type": "stream",
     "text": [
      "Accuracy logistic regression: 0.849615806805708\n",
      "              precision    recall  f1-score   support\n",
      "\n",
      "           0       0.87      0.97      0.92       774\n",
      "           1       0.50      0.18      0.27       137\n",
      "\n",
      "    accuracy                           0.85       911\n",
      "   macro avg       0.68      0.58      0.59       911\n",
      "weighted avg       0.81      0.85      0.82       911\n",
      "\n",
      "AUC Logistic Regression: 0.5750910051113752\n",
      "------------------------------------------------------------\n",
      "Accuracy random forest: 0.8682766190998902\n",
      "              precision    recall  f1-score   support\n",
      "\n",
      "           0       0.88      0.97      0.93       774\n",
      "           1       0.64      0.28      0.39       137\n",
      "\n",
      "    accuracy                           0.87       911\n",
      "   macro avg       0.76      0.63      0.66       911\n",
      "weighted avg       0.85      0.87      0.85       911\n",
      "\n",
      "AUC Random Forest: 0.6281238801184481\n"
     ]
    }
   ],
   "source": [
    "auc1 = roc_auc_score(y_test, y_pred1)\n",
    "auc2 = roc_auc_score(y_test, y_pred2)\n",
    "\n",
    "print(classification_report(y_test, y_pred1))\n",
    "print(f\"AUC Logistic Regression: {auc1}\")\n",
    "print(\"-\"*60)\n",
    "\n",
    "print(classification_report(y_test, y_pred2))\n",
    "print(f\"AUC Random Forest: {auc2}\")"
   ]
  },
  {
   "cell_type": "markdown",
   "id": "82f9eec8-d69e-44f9-be86-45afa445ccef",
   "metadata": {},
   "source": [
    "# Importance des variables\n",
    "\n",
    "## Valeur SHAP\n",
    "\n",
    "Pour déterminer si une variable est plus importante qu'une autre dans la détermination de la présence d'un bug, on utilise [sa valeur **SHAP** (**SH**apley **A**dditive ex**P**lanations)](https://towardsdatascience.com/using-shap-values-to-explain-how-your-machine-learning-model-works-732b3f40e137). Elle mesure la contribution d'une variable dans la prédiction du modèle."
   ]
  },
  {
   "cell_type": "code",
   "execution_count": 42,
   "id": "c7139ee4-4115-4595-b4e7-990eb7150b8a",
   "metadata": {},
   "outputs": [
    {
     "data": {
      "image/png": "[encoded data removed]",
      "text/plain": [
       "<Figure size 800x650 with 1 Axes>"
      ]
     },
     "metadata": {},
     "output_type": "display_data"
    }
   ],
   "source": [
    "explainer = shap.Explainer(model1, X_train)\n",
    "shap_values = explainer(X_test)\n",
    "\n",
    "shap.plots.bar(shap_values, show=False)\n",
    "plt.title(\"Importance des variables pour la prédiction des bogues\")\n",
    "plt.savefig('mon_graphique.png')\n",
    "plt.show()"
   ]
  },
  {
   "cell_type": "markdown",
   "id": "7ee156a5-e55c-499e-940f-333e0ea1ad2d",
   "metadata": {},
   "source": [
    "## Sélection des meilleures valeurs\n",
    "\n",
    "On utilise uniquement les 5 meilleures variables pour l'entraînement et la prédication des variables."
   ]
  },
  {
   "cell_type": "code",
   "execution_count": 51,
   "id": "57c1a0e6-77c2-4c01-8db7-3ca7a5160db0",
   "metadata": {},
   "outputs": [
    {
     "name": "stdout",
     "output_type": "stream",
     "text": [
      "Les 5 variables les plus importantes :\n",
      "CountLineCode    7.605159\n",
      "CountStmt        6.225731\n",
      "CountStmtExe     3.810040\n",
      "CountStmtDecl    3.699176\n",
      "CountLine        3.362503\n",
      "dtype: float64\n"
     ]
    }
   ],
   "source": [
    "shap_df = pd.DataFrame(shap_values.values, columns=X_test.columns)\n",
    "mean_shap = shap_df.abs().mean()\n",
    "top_5_variables = mean_shap.nlargest(5)\n",
    "print(\"Les 5 variables les plus importantes :\")\n",
    "print(top_5_variables)\n",
    "top_5_variables = top_5_variables.index.tolist()"
   ]
  },
  {
   "cell_type": "code",
   "execution_count": 53,
   "id": "4894c87d-15fa-4ef6-94d7-e69491e4d8ca",
   "metadata": {},
   "outputs": [
    {
     "name": "stdout",
     "output_type": "stream",
     "text": [
      "              precision    recall  f1-score   support\n",
      "\n",
      "           0       0.88      0.97      0.93       774\n",
      "           1       0.64      0.28      0.39       137\n",
      "\n",
      "    accuracy                           0.87       911\n",
      "   macro avg       0.76      0.63      0.66       911\n",
      "weighted avg       0.85      0.87      0.85       911\n",
      "\n",
      "AUC Random Forest: 0.6281238801184481\n"
     ]
    }
   ],
   "source": [
    "X = data[top_5_variables] # variables indépendantes\n",
    "y = data['BugStatus'] # présence d'un bug\n",
    "model2.fit(X_train, y_train) # modèle forêt aléatoire\n",
    "y_pred2 = model2.predict(X_test)\n",
    "print(classification_report(y_test, y_pred2))\n",
    "print(f\"AUC Random Forest: {auc2}\")"
   ]
  },
  {
   "cell_type": "code",
   "execution_count": null,
   "id": "7e93f4aa-a0cd-4216-837d-824fe92f6e96",
   "metadata": {},
   "outputs": [],
   "source": []
  }
 ],
 "metadata": {
  "kernelspec": {
   "display_name": "Python 3 (ipykernel)",
   "language": "python",
   "name": "python3"
  },
  "language_info": {
   "codemirror_mode": {
    "name": "ipython",
    "version": 3
   },
   "file_extension": ".py",
   "mimetype": "text/x-python",
   "name": "python",
   "nbconvert_exporter": "python",
   "pygments_lexer": "ipython3",
   "version": "3.10.7"
  }
 },
 "nbformat": 4,
 "nbformat_minor": 5
}
