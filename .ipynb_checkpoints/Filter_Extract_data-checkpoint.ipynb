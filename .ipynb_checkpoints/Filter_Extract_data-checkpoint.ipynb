{
 "cells": [
  {
   "cell_type": "markdown",
   "id": "b314d060315a4043",
   "metadata": {},
   "source": [
    "# Code to filter and extract data from CSV files and then search for HIVE-X keys in the git repository."
   ]
  },
  {
   "cell_type": "markdown",
   "id": "7b51432057007d2a",
   "metadata": {},
   "source": [
    "---\n",
    "## Data cleaning"
   ]
  },
  {
   "cell_type": "code",
   "execution_count": 17,
   "id": "initial_id",
   "metadata": {
    "ExecuteTime": {
     "end_time": "2024-11-01T02:46:19.689402Z",
     "start_time": "2024-11-01T02:46:19.240593Z"
    }
   },
   "outputs": [],
   "source": [
    "import pandas as pd\n",
    "import os\n",
    "import git\n",
    "import re\n",
    "from concurrent.futures import ThreadPoolExecutor, as_completed, ProcessPoolExecutor\n",
    "import subprocess\n",
    "import csv\n",
    "from datetime import datetime"
   ]
  },
  {
   "cell_type": "code",
   "execution_count": 2,
   "id": "457d628e40d96f19",
   "metadata": {
    "ExecuteTime": {
     "end_time": "2024-11-01T02:46:19.697553Z",
     "start_time": "2024-11-01T02:46:19.693043Z"
    },
    "collapsed": false,
    "jupyter": {
     "outputs_hidden": false
    }
   },
   "outputs": [],
   "source": [
    "folder_path = 'CSV exported'\n",
    "# Lire tous les fichiers CSV du dossier\n",
    "csv_files = [os.path.join(folder_path, file) for file in os.listdir(folder_path) if file.endswith('.csv')]"
   ]
  },
  {
   "cell_type": "code",
   "execution_count": 3,
   "id": "4547de117cbbed",
   "metadata": {
    "ExecuteTime": {
     "end_time": "2024-11-01T02:46:20.516434Z",
     "start_time": "2024-11-01T02:46:19.881701Z"
    },
    "collapsed": false,
    "jupyter": {
     "outputs_hidden": false
    }
   },
   "outputs": [
    {
     "name": "stdout",
     "output_type": "stream",
     "text": [
      "6\n"
     ]
    }
   ],
   "source": [
    "dataframes = [pd.read_csv(file, sep=\"^\") for file in csv_files]\n",
    "dataframes_filtered = []\n",
    "for df in dataframes:\n",
    "    fix_version_columns = [col for col in df.columns if col.startswith('Fix Version/s')]\n",
    "    affects_version_columns = [col for col in df.columns if col.startswith('Affects Version/s')]\n",
    "\n",
    "    df['Fix Versions Combined'] = df[fix_version_columns].apply(lambda x: ', '.join(x.dropna().astype(str)), axis=1)\n",
    "    df['Affects Versions Combined'] = df[affects_version_columns].apply(lambda x: ', '.join(x.dropna().astype(str)),\n",
    "                                                                        axis=1)\n",
    "\n",
    "    # Supprimer les colonnes originales\n",
    "    df = df.drop(fix_version_columns, axis=1)\n",
    "    df = df.drop(affects_version_columns, axis=1)\n",
    "\n",
    "    keep: list = ['Issue key', 'Status', 'Resolution', 'Created', 'Fix Versions Combined', 'Affects Versions Combined']\n",
    "    df = df.loc[:, keep]\n",
    "    print(len(df.columns))\n",
    "\n",
    "    dataframes_filtered.append(df)"
   ]
  },
  {
   "cell_type": "code",
   "execution_count": 4,
   "id": "6b987d3d55b2c34e",
   "metadata": {
    "ExecuteTime": {
     "end_time": "2024-11-01T02:46:20.614723Z",
     "start_time": "2024-11-01T02:46:20.609776Z"
    },
    "collapsed": false,
    "jupyter": {
     "outputs_hidden": false
    }
   },
   "outputs": [],
   "source": [
    "df_merged = pd.concat(dataframes_filtered, ignore_index=True, sort=False)"
   ]
  },
  {
   "cell_type": "code",
   "execution_count": 5,
   "id": "acb762f8d0c89125",
   "metadata": {
    "ExecuteTime": {
     "end_time": "2024-11-01T02:46:20.669837Z",
     "start_time": "2024-11-01T02:46:20.660240Z"
    },
    "collapsed": false,
    "jupyter": {
     "outputs_hidden": false
    }
   },
   "outputs": [],
   "source": [
    "df_merged.to_csv('filtered_data.csv')"
   ]
  },
  {
   "cell_type": "markdown",
   "id": "e251852981aa0922",
   "metadata": {},
   "source": [
    "---\n",
    "\n",
    "## Extract"
   ]
  },
  {
   "cell_type": "code",
   "execution_count": 6,
   "id": "9b74ac9d32cb1241",
   "metadata": {
    "ExecuteTime": {
     "end_time": "2024-11-01T02:46:20.705519Z",
     "start_time": "2024-11-01T02:46:20.700439Z"
    }
   },
   "outputs": [],
   "source": [
    "# Create a set of all the ids\n",
    "ids = set(df_merged[df_merged.columns[df_merged.columns.str.contains('Issue key')]].values.flatten())"
   ]
  },
  {
   "cell_type": "markdown",
   "id": "ca29de2013182e6e",
   "metadata": {},
   "source": [
    "---\n",
    "GIT RESEARCH\n",
    "---\n",
    "\n"
   ]
  },
  {
   "cell_type": "code",
   "execution_count": 7,
   "id": "56f937962241967b",
   "metadata": {
    "ExecuteTime": {
     "end_time": "2024-11-01T02:46:20.744547Z",
     "start_time": "2024-11-01T02:46:20.737149Z"
    }
   },
   "outputs": [],
   "source": [
    "\n",
    "# Current project path\n",
    "current_project_path = os.getcwd()\n",
    "# Parent directory\n",
    "parent_directory = os.path.dirname(current_project_path)\n",
    "# Path to the repository\n",
    "repo_path = os.path.join(parent_directory, 'hive')\n",
    "# Repository URL\n",
    "repo_url = 'git@github.com:apache/hive.git'"
   ]
  },
  {
   "cell_type": "code",
   "execution_count": 8,
   "id": "ac4745f4e75f046c",
   "metadata": {
    "ExecuteTime": {
     "end_time": "2024-11-01T02:48:16.807867Z",
     "start_time": "2024-11-01T02:46:20.761483Z"
    }
   },
   "outputs": [],
   "source": [
    "# Check if repo exists\n",
    "if not os.path.exists(repo_path) or not os.path.exists(os.path.join(repo_path, '.git')):\n",
    "    repo = git.Repo.clone_from(repo_url, repo_path)\n",
    "else:\n",
    "    repo = git.Repo(repo_path)"
   ]
  },
  {
   "cell_type": "code",
   "execution_count": 9,
   "id": "4e61a0d8385f77a4",
   "metadata": {
    "ExecuteTime": {
     "end_time": "2024-11-01T02:48:16.828030Z",
     "start_time": "2024-11-01T02:48:16.823098Z"
    }
   },
   "outputs": [],
   "source": [
    "pattern = re.compile(r'HIVE-(\\d{3,5})')"
   ]
  },
  {
   "cell_type": "code",
   "execution_count": 10,
   "id": "9c85f0b10b601b11",
   "metadata": {
    "ExecuteTime": {
     "end_time": "2024-11-01T02:48:16.877894Z",
     "start_time": "2024-11-01T02:48:16.868974Z"
    }
   },
   "outputs": [],
   "source": [
    "# Function to process a batch of commits\n",
    "def process_commits(commits):\n",
    "    print(f'Processing {len(commits)} commits')\n",
    "    local_repo = git.Repo(repo_path)\n",
    "    couples = []\n",
    "    for key in commits:\n",
    "        commit_id = key\n",
    "        for match in commits[key]:\n",
    "            hive_key = f'HIVE-{match}'\n",
    "            if hive_key in ids:\n",
    "                for file in local_repo.commit(commit_id).stats.files:\n",
    "                    couples.append((hive_key, file))\n",
    "                \n",
    "    print(f'Finished processing {len(commits)} commits')\n",
    "    return couples"
   ]
  },
  {
   "cell_type": "code",
   "execution_count": 11,
   "id": "a85859b643c3f4cc",
   "metadata": {
    "ExecuteTime": {
     "end_time": "2024-11-01T02:48:17.989947Z",
     "start_time": "2024-11-01T02:48:16.892274Z"
    }
   },
   "outputs": [],
   "source": [
    "num_threads = os.cpu_count() # Get the number of threads of the CPU\n",
    "chunk_size = len(list(repo.iter_commits())) // num_threads\n",
    "\n",
    "# Get all commits and files\n",
    "all_commits = [{} for _ in range(num_threads)]\n",
    "\n",
    "for i, commit in enumerate(repo.iter_commits()):\n",
    "    matches = pattern.findall(commit.message)\n",
    "    if matches:\n",
    "        all_commits[i // chunk_size][commit.hexsha] = matches\n",
    "\n"
   ]
  },
  {
   "cell_type": "code",
   "execution_count": 12,
   "id": "b8754fda64e4804a",
   "metadata": {
    "ExecuteTime": {
     "end_time": "2024-11-01T02:48:35.315585Z",
     "start_time": "2024-11-01T02:48:18.004211Z"
    }
   },
   "outputs": [
    {
     "name": "stdout",
     "output_type": "stream",
     "text": [
      "Processing 2134 commitsProcessing 2135 commits\n",
      "Processing 2169 commits\n",
      "\n",
      "Processing 2163 commits\n",
      "Processing 2137 commits\n",
      "Finished processing 2134 commits\n",
      "Processing 2061 commits\n",
      "Processing 2065 commits\n",
      "Processing 2047 commits\n",
      "Finished processing 2047 commits\n",
      "Finished processing 2065 commits\n",
      "Finished processing 2061 commits\n",
      "Finished processing 2169 commits\n",
      "Finished processing 2135 commits\n",
      "Finished processing 2163 commits\n",
      "Finished processing 2137 commits\n"
     ]
    }
   ],
   "source": [
    "# Initialize the list to store all couples\n",
    "all_couples = []\n",
    "with ThreadPoolExecutor(max_workers=num_threads) as executor:\n",
    "    futures = [executor.submit(process_commits, chunk) for chunk in all_commits]\n",
    "    for future in as_completed(futures):\n",
    "        couples = future.result()\n",
    "        all_couples.extend(couples)"
   ]
  },
  {
   "cell_type": "code",
   "execution_count": 13,
   "id": "d7625e17f335d71f",
   "metadata": {
    "ExecuteTime": {
     "end_time": "2024-11-01T02:48:35.367627Z",
     "start_time": "2024-11-01T02:48:35.331892Z"
    }
   },
   "outputs": [],
   "source": [
    "# Convert the list of tuples into a DataFrame\n",
    "df_couples = pd.DataFrame(all_couples, columns=['Issue Key', 'File'])\n",
    "# Save the DataFrame to a CSV file\n",
    "df_couples.to_csv('couples.csv', index=False)"
   ]
  },
  {
   "cell_type": "code",
   "execution_count": 14,
   "id": "ce6f6e430c90acae",
   "metadata": {
    "ExecuteTime": {
     "end_time": "2024-11-01T02:48:35.385652Z",
     "start_time": "2024-11-01T02:48:35.382724Z"
    }
   },
   "outputs": [],
   "source": [
    "# Charger le fichier CSV\n",
    "df_couples = pd.read_csv(\"couples.csv\")\n",
    "# Garder seulement les fichiers Java ou C++\n",
    "df_filtered = df_couples[df_couples['File'].str.endswith(('.java', '.cpp', '.c', '.h'))]\n",
    "# Sauvegarder le fichier filtré si besoin\n",
    "df_filtered.to_csv(\"filtered_couples.csv\", index=False)"
   ]
  },
  {
   "cell_type": "code",
   "execution_count": 15,
   "id": "a8a9a521-2832-4126-a993-45d716501ccf",
   "metadata": {},
   "outputs": [
    {
     "name": "stdout",
     "output_type": "stream",
     "text": [
      "{'branch-3.1.2-rc0': '2020-01-13', 'branch-3.1.3-rc0': '2020-01-13', 'master_2015_11_30': '2015-11-29', 'rel/release-1.2.2': '2017-04-01', 'rel/release-2.1.0': '2016-06-17', 'rel/release-2.1.1': '2016-11-29', 'rel/release-2.2.0': '2017-07-21', 'rel/release-2.3.0': '2017-07-13', 'rel/release-2.3.1': '2017-10-19', 'rel/release-2.3.10': '2024-05-04', 'rel/release-2.3.2': '2017-11-09', 'rel/release-2.3.3': '2018-03-28', 'rel/release-2.3.4': '2018-10-31', 'rel/release-2.3.5': '2019-05-07', 'rel/release-2.3.6': '2019-08-13', 'rel/release-2.3.7': '2020-04-07', 'rel/release-2.3.8': '2021-01-06', 'rel/release-2.3.9': '2021-06-01', 'rel/release-3.0.0': '2018-05-17', 'rel/release-3.1.0': '2018-07-23', 'rel/release-3.1.1': '2018-10-23', 'rel/release-3.1.2': '2019-08-22', 'rel/release-3.1.3': '2022-03-24', 'rel/release-4.0.0': '2024-03-21', 'rel/release-4.0.0-alpha-1': '2022-03-22', 'rel/release-4.0.0-alpha-2': '2022-11-07', 'rel/release-4.0.0-beta-1': '2023-08-07', 'rel/release-4.0.1': '2024-09-26', 'rel/standalone-metastore-release-3.0.0': '2018-05-17', 'rel/storage-release-2.2.0': '2017-01-09', 'rel/storage-release-2.2.1': '2017-02-16', 'rel/storage-release-2.3.0': '2017-04-26', 'rel/storage-release-2.3.1': '2017-05-30', 'rel/storage-release-2.4.0': '2017-07-10', 'rel/storage-release-2.5.0': '2018-03-22', 'rel/storage-release-2.6.0': '2018-04-26', 'rel/storage-release-2.6.1': '2018-05-08', 'rel/storage-release-2.7.0': '2018-07-12', 'rel/storage-release-2.7.1': '2019-11-26', 'rel/storage-release-2.7.2': '2020-05-05', 'rel/storage-release-2.7.3': '2021-07-29', 'rel/storage-release-2.8.1': '2021-07-29', 'release-0.10.0': '2013-01-10', 'release-0.11.0': '2013-05-16', 'release-0.12.0': '2013-10-14', 'release-0.13.0': '2014-04-19', 'release-0.13.1': '2014-06-05', 'release-0.14.0': '2014-11-12', 'release-0.3.0': '2010-10-26', 'release-0.4.0': '2010-10-26', 'release-0.4.1': '2010-10-26', 'release-0.5.0': '2010-10-26', 'release-0.6.0': '2010-10-26', 'release-0.7.0': '2011-03-25', 'release-0.7.1': '2011-06-17', 'release-0.8.0': '2011-12-16', 'release-0.8.1': '2012-01-30', 'release-0.9.0': '2012-04-27', 'release-1.0.0': '2015-02-03', 'release-1.0.1': '2015-05-14', 'release-1.1.0': '2015-03-09', 'release-1.1.1': '2015-05-14', 'release-1.2.0': '2015-05-14', 'release-1.2.1': '2015-06-19', 'release-2.0.0': '2016-02-09', 'release-2.0.1': '2016-05-03', 'release-2.3.10-rc0': '2024-04-20', 'release-2.3.10-rc1': '2024-05-04', 'release-2.3.5-rc0': '2019-05-07', 'release-2.3.8-rc0': '2020-12-07', 'release-2.3.8-rc1': '2020-12-09', 'release-2.3.8-rc2': '2020-12-14', 'release-2.3.8-rc3': '2021-01-06', 'release-2.3.9-rc0': '2021-06-01', 'release-3.1.2-rc0': '2019-08-21', 'release-3.1.3-rc0': '2022-02-27', 'release-3.1.3-rc1': '2022-03-08', 'release-3.1.3-rc2': '2022-03-24', 'release-3.1.3-rc3': '2022-03-24', 'storage-release-2.7.0-rc0': '2018-07-06', 'storage-release-2.7.0-rc1': '2018-07-12', 'storage-release-2.7.2-rc0': '2020-03-24', 'storage-release-2.7.2-rc1': '2020-05-05', 'storage-release-2.7.3-rc0': '2021-06-07', 'storage-release-2.7.3-rc1': '2021-07-26', 'storage-release-2.7.3-rc2': '2021-07-29', 'storage-release-2.8.0-rc0': '2021-06-18', 'storage-release-2.8.1-rc0': '2021-07-23', 'storage-release-2.8.1-rc1': '2021-07-26', 'storage-release-2.8.1-rc2': '2021-07-29'}\n"
     ]
    }
   ],
   "source": [
    "# Obtenir tous les tags et leurs dates de création\n",
    "tags = repo.tags\n",
    "versions = {}\n",
    "\n",
    "for tag in tags:\n",
    "    # Récupérer la date de création du commit associé au tag\n",
    "    commit = tag.commit\n",
    "    commit_date = commit.committed_datetime.strftime('%Y-%m-%d')\n",
    "    versions[tag.name] = commit_date\n",
    "\n",
    "# Afficher les versions et leurs dates\n",
    "print(versions)"
   ]
  },
  {
   "cell_type": "code",
   "execution_count": 18,
   "id": "b32634b6-019e-4ef1-b701-6ec35f60ca4a",
   "metadata": {},
   "outputs": [
    {
     "name": "stdout",
     "output_type": "stream",
     "text": [
      "Fichier CSV créé : commits_for_hive_versions.csv\n"
     ]
    }
   ],
   "source": [
    "# Filtrer les versions à partir de 2.0.0\n",
    "filtered_versions = {tag: date for tag, date in versions.items() if tag >= 'release-2.0.0'}\n",
    "\n",
    "# Tri des versions par date\n",
    "sorted_versions = sorted(filtered_versions.items(), key=lambda x: datetime.strptime(x[1], '%Y-%m-%d'))\n",
    "\n",
    "# Stockage des commits pour chaque version\n",
    "commits_for_versions = {}\n",
    "\n",
    "# Récupération du dernier commit avant chaque version\n",
    "for version, release_date in sorted_versions:\n",
    "    # Obtenir le dernier commit avant la date de version\n",
    "    commit = repo.git.log('--before', release_date, '-n', '1', '--pretty=format:%H')\n",
    "    commits_for_versions[version] = {\n",
    "        \"release_date\": release_date,\n",
    "        \"last_commit\": commit\n",
    "    }\n",
    "\n",
    "# Enregistrement des données dans un fichier CSV\n",
    "csv_file_path = \"commits_for_hive_versions.csv\"\n",
    "with open(csv_file_path, mode='w', newline='') as csv_file:\n",
    "    fieldnames = [\"version\", \"release_date\", \"last_commit\"]\n",
    "    writer = csv.DictWriter(csv_file, fieldnames=fieldnames)\n",
    "    writer.writeheader()\n",
    "    \n",
    "    for version, info in commits_for_versions.items():\n",
    "        writer.writerow({\n",
    "            \"version\": version,\n",
    "            \"release_date\": info[\"release_date\"],\n",
    "            \"last_commit\": info[\"last_commit\"]\n",
    "        })\n",
    "\n",
    "print(f\"Fichier CSV créé : {csv_file_path}\")"
   ]
  },
  {
   "cell_type": "code",
   "execution_count": 19,
   "id": "967012a7-5a9c-4c80-855a-e549a32ed1a9",
   "metadata": {},
   "outputs": [],
   "source": [
    "# Charger le fichier CSV existant avec toutes les versions\n",
    "df = pd.read_csv(\"commits_for_hive_versions.csv\")\n",
    "\n",
    "# Filtrer les versions principales avec une expression régulière\n",
    "df_main_versions = df[df['version'].str.match(r'^release-\\d+\\.\\d+\\.\\d+$')]\n",
    "\n",
    "# Enregistrer le nouveau fichier CSV avec uniquement les versions principales\n",
    "df_main_versions.to_csv(\"commits_for_main_hive_versions.csv\", index=False)"
   ]
  },
  {
   "cell_type": "code",
   "execution_count": 28,
   "id": "52994dc8-4594-4c2e-9f57-db4f09aca67a",
   "metadata": {},
   "outputs": [
    {
     "name": "stdout",
     "output_type": "stream",
     "text": [
      "Labelling completed and saved to labeled_filtered_final_metrics.csv\n"
     ]
    }
   ],
   "source": [
    "# Charger les fichiers\n",
    "metrics_df = pd.read_csv(\"full_metrics_release-2.0.0.csv\")\n",
    "couples_df = pd.read_csv(\"filtered_couples.csv\")\n",
    "\n",
    "# Extraire les noms de fichiers de `filtered_couples.csv`\n",
    "couples_df['File'] = couples_df['File'].apply(lambda x: x.split('/')[-1])  # Prend juste le nom de fichier à partir du chemin\n",
    "couples_files = set(couples_df['File'])  # Convertir en ensemble pour une recherche rapide\n",
    "\n",
    "# Ajouter la colonne `BugStatus` dans `metrics_df` en fonction de la présence du fichier dans `couples_files`\n",
    "metrics_df['BugStatus'] = metrics_df['Name'].apply(lambda x: 1 if x.strip('\"') in couples_files else 0)\n",
    "\n",
    "# Sauvegarder le fichier avec la colonne `BugStatus`\n",
    "metrics_df.to_csv(\"labeled_full_metrics_release-2.0.0.csv\", index=False)\n",
    "print(\"Labelling completed and saved to labeled_full_metrics_release-2.0.0.csv\")"
   ]
  }
 ],
 "metadata": {
  "kernelspec": {
   "display_name": "Python 3 (ipykernel)",
   "language": "python",
   "name": "python3"
  },
  "language_info": {
   "codemirror_mode": {
    "name": "ipython",
    "version": 3
   },
   "file_extension": ".py",
   "mimetype": "text/x-python",
   "name": "python",
   "nbconvert_exporter": "python",
   "pygments_lexer": "ipython3",
   "version": "3.12.7"
  }
 },
 "nbformat": 4,
 "nbformat_minor": 5
}
