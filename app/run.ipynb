{
 "cells": [
  {
   "cell_type": "markdown",
   "id": "a96c7a902fdf51bd",
   "metadata": {},
   "source": [
    "# MGL 869 - Hive - Groupe 8 - Lab \n",
    "\n",
    "---\n"
   ]
  },
  {
   "cell_type": "markdown",
   "id": "7a4768b77d1ac886",
   "metadata": {
    "jp-MarkdownHeadingCollapsed": true
   },
   "source": [
    "## Packages"
   ]
  },
  {
   "cell_type": "code",
   "execution_count": 1,
   "id": "initial_id",
   "metadata": {
    "ExecuteTime": {
     "end_time": "2024-11-09T04:47:08.649894Z",
     "start_time": "2024-11-09T04:47:08.646232Z"
    }
   },
   "outputs": [],
   "source": [
    "import pandas as pd\n",
    "import os\n",
    "import git\n",
    "import re\n",
    "from concurrent.futures import ThreadPoolExecutor, as_completed"
   ]
  },
  {
   "cell_type": "markdown",
   "id": "c18eca7f-29df-427d-a180-17b42c425557",
   "metadata": {
    "jp-MarkdownHeadingCollapsed": true
   },
   "source": [
    "## Global variables"
   ]
  },
  {
   "cell_type": "code",
   "execution_count": 2,
   "id": "e05fad00-d627-466d-9f44-c2c4e25a9bc3",
   "metadata": {
    "ExecuteTime": {
     "end_time": "2024-11-09T04:47:08.677346Z",
     "start_time": "2024-11-09T04:47:08.673856Z"
    }
   },
   "outputs": [],
   "source": [
    "HIVE_CSV_path = 'ApacheHiveCSV'\n",
    "HIVE_CSV_separator = '^'\n",
    "GIT_HIVE_path = 'repo'\n",
    "GIT_url = 'git@github.com:apache/hive.git'"
   ]
  },
  {
   "cell_type": "markdown",
   "id": "96f9faa0-ec35-49e6-bb10-ebaa252c7c9a",
   "metadata": {
    "jp-MarkdownHeadingCollapsed": true
   },
   "source": [
    "## OS environment"
   ]
  },
  {
   "cell_type": "code",
   "execution_count": 3,
   "id": "e1e0a1da-611b-4063-bd55-2b125eee1628",
   "metadata": {
    "ExecuteTime": {
     "end_time": "2024-11-09T04:47:08.696125Z",
     "start_time": "2024-11-09T04:47:08.691981Z"
    }
   },
   "outputs": [],
   "source": [
    "os.makedirs('output', exist_ok=True)\n",
    "current_project_path = os.getcwd()"
   ]
  },
  {
   "cell_type": "markdown",
   "id": "bdc3e99b-7f0e-44ac-a81a-2345e944bfd1",
   "metadata": {
    "jp-MarkdownHeadingCollapsed": true
   },
   "source": [
    "## Git environment"
   ]
  },
  {
   "cell_type": "code",
   "execution_count": 4,
   "id": "5fc4dd81-709b-48ba-9a0d-ad7231c9b970",
   "metadata": {
    "ExecuteTime": {
     "end_time": "2024-11-09T04:47:08.727171Z",
     "start_time": "2024-11-09T04:47:08.723142Z"
    }
   },
   "outputs": [],
   "source": [
    "# Parent directory\n",
    "parent_directory = os.path.dirname(current_project_path)\n",
    "# Repository path\n",
    "repo_path = current_project_path + '/' + GIT_HIVE_path"
   ]
  },
  {
   "cell_type": "markdown",
   "id": "20b68da8-2bd6-4c87-9bbf-a732792a0985",
   "metadata": {
    "jp-MarkdownHeadingCollapsed": true
   },
   "source": [
    "## Extract data from Hive\n",
    "\n",
    "### Function to create dataframe from multiple sources"
   ]
  },
  {
   "cell_type": "code",
   "execution_count": 5,
   "id": "abd98a4b-8989-4f2a-8b01-1893b03c8ab8",
   "metadata": {
    "ExecuteTime": {
     "end_time": "2024-11-09T04:47:08.786724Z",
     "start_time": "2024-11-09T04:47:08.780974Z"
    }
   },
   "outputs": [],
   "source": [
    "def createHiveDataFrame():\n",
    "    \"\"\"\n",
    "    Create a dataframe from multiple CSV files\n",
    "    :return: A dataframe that contains all the data from the directory HIVE_CSV_path\n",
    "    \"\"\"\n",
    "    # Get all the CSV files in the directory\n",
    "    csv_files = [os.path.join(HIVE_CSV_path, file) for file in os.listdir(HIVE_CSV_path) if file.endswith('.csv')]\n",
    "    \n",
    "    # Create a dataframe for each CSV file\n",
    "    dataframes = [pd.read_csv(file, sep=\"^\") for file in csv_files]\n",
    "    \n",
    "    dataframes_filtered = []\n",
    "    for df in dataframes:\n",
    "        \n",
    "        # Get the columns that contain the patch versions\n",
    "        fix_version_columns = [col for col in df.columns if col.startswith('Fix Version/s')]\n",
    "        \n",
    "        # Get the columns that contain the affects versions\n",
    "        affects_version_columns = [col for col in df.columns if col.startswith('Affects Version/s')]\n",
    "        \n",
    "        # Combine the versions into a single column\n",
    "        df['Fix Versions Combined'] = df[fix_version_columns].apply(lambda x: ', '.join(x.dropna().astype(str)), axis=1)\n",
    "        df['Affects Versions Combined'] = df[affects_version_columns].apply(lambda x: ', '.join(x.dropna().astype(str)),\n",
    "                                                                            axis=1)\n",
    "        # Delete the columns that are not needed\n",
    "        df = df.drop(fix_version_columns, axis=1)\n",
    "        df = df.drop(affects_version_columns, axis=1)\n",
    "    \n",
    "        # Keep only the columns that are needed\n",
    "        keep: list = ['Issue key', 'Status', 'Resolution', 'Created', 'Fix Versions Combined', 'Affects Versions Combined']\n",
    "        df = df.loc[:, keep]\n",
    "    \n",
    "        dataframes_filtered.append(df)\n",
    "    return dataframes_filtered"
   ]
  },
  {
   "cell_type": "markdown",
   "id": "46acd5d9-578a-4cde-a116-41454743d9f3",
   "metadata": {},
   "source": [
    "### Create dataframe"
   ]
  },
  {
   "cell_type": "code",
   "execution_count": 6,
   "id": "daebf89e-b543-4958-bd14-d3e22a571ffc",
   "metadata": {
    "ExecuteTime": {
     "end_time": "2024-11-09T04:47:09.156192Z",
     "start_time": "2024-11-09T04:47:08.792945Z"
    }
   },
   "outputs": [],
   "source": [
    "df_merged = pd.concat(createHiveDataFrame(), ignore_index=True, sort=False)"
   ]
  },
  {
   "cell_type": "markdown",
   "id": "c29cd742-0b3a-4a96-9782-6fde54e72515",
   "metadata": {},
   "source": [
    "### Collect bug ids"
   ]
  },
  {
   "cell_type": "code",
   "execution_count": 7,
   "id": "96ff62e9-0e2e-47bc-a9c2-1c75fce92c78",
   "metadata": {
    "ExecuteTime": {
     "end_time": "2024-11-09T04:47:09.188464Z",
     "start_time": "2024-11-09T04:47:09.182814Z"
    }
   },
   "outputs": [],
   "source": [
    "# Create a set of all the ids\n",
    "ids = set(df_merged[df_merged.columns[df_merged.columns.str.contains('Issue key')]].values.flatten())"
   ]
  },
  {
   "cell_type": "markdown",
   "id": "c34b6897-9e18-4870-b031-c5f38dc5b584",
   "metadata": {},
   "source": [
    "## Git research\n",
    "### Clone if repo isn't already clone"
   ]
  },
  {
   "cell_type": "code",
   "execution_count": 8,
   "id": "bfe97984-8cc8-47c3-bcfa-f414dfd77b43",
   "metadata": {
    "ExecuteTime": {
     "end_time": "2024-11-09T04:47:09.201202Z",
     "start_time": "2024-11-09T04:47:09.195003Z"
    }
   },
   "outputs": [],
   "source": [
    "# Check if repo exists\n",
    "if not os.path.exists(repo_path) or not os.path.exists(os.path.join(repo_path, '.git')):\n",
    "    repo = git.Repo.clone_from(GIT_url, repo_path)\n",
    "else:\n",
    "    repo = git.Repo(repo_path)"
   ]
  },
  {
   "cell_type": "markdown",
   "id": "a342d15b-1b08-483b-bc8d-e5292d3f8262",
   "metadata": {},
   "source": [
    "### Regex to find bug names in commits"
   ]
  },
  {
   "cell_type": "code",
   "execution_count": 9,
   "id": "d973aec8-54dd-49df-81e7-13b9fb4b65e9",
   "metadata": {
    "ExecuteTime": {
     "end_time": "2024-11-09T04:47:09.218252Z",
     "start_time": "2024-11-09T04:47:09.214625Z"
    }
   },
   "outputs": [],
   "source": [
    "pattern = re.compile(r'HIVE-(\\d{3,5})')"
   ]
  },
  {
   "cell_type": "markdown",
   "id": "74bf3766-c263-49d0-b64f-4179573cb724",
   "metadata": {},
   "source": [
    "### Function to find files modified for a list of commit"
   ]
  },
  {
   "cell_type": "code",
   "execution_count": 10,
   "id": "7f90f602-fb92-4881-a632-2ee236f8756d",
   "metadata": {
    "ExecuteTime": {
     "end_time": "2024-11-09T04:47:09.235779Z",
     "start_time": "2024-11-09T04:47:09.230439Z"
    }
   },
   "outputs": [],
   "source": [
    "# Function to process a batch of commits\n",
    "def process_commits(commits):\n",
    "    local_repo = git.Repo(repo_path) # Load the repository in memory of the current thread\n",
    "    tuple_key_file_commit = []\n",
    "    for commit_id in commits:\n",
    "        for match in commits[commit_id]:\n",
    "            hive_key = f'HIVE-{match}'\n",
    "            if hive_key in ids:\n",
    "                for file in local_repo.commit(commit_id).stats.files:\n",
    "                    tuple_key_file_commit.append((hive_key, file, commit_id))\n",
    "    return tuple_key_file_commit"
   ]
  },
  {
   "cell_type": "markdown",
   "id": "113e9d5f-a3dd-4deb-b30c-94cbf683e58f",
   "metadata": {},
   "source": [
    "### Prepare research in batch bug research in commits"
   ]
  },
  {
   "cell_type": "code",
   "execution_count": 11,
   "id": "7f2458e7-d264-4229-8a67-6a15f62d1c27",
   "metadata": {
    "ExecuteTime": {
     "end_time": "2024-11-09T04:47:10.543900Z",
     "start_time": "2024-11-09T04:47:09.251081Z"
    }
   },
   "outputs": [],
   "source": [
    "# Get the number of threads of the CPU\n",
    "num_threads = os.cpu_count() \n",
    "# Size of the chunk\n",
    "chunk_size = len(list(repo.iter_commits())) // num_threads\n",
    "\n",
    "# Get all commits and files\n",
    "all_commits = [{} for _ in range(num_threads)]\n",
    "\n",
    "for i, commit in enumerate(repo.iter_commits()):\n",
    "    matches = pattern.findall(commit.message)\n",
    "    if matches:\n",
    "        all_commits[i // chunk_size][commit.hexsha] = matches\n"
   ]
  },
  {
   "cell_type": "code",
   "execution_count": 12,
   "id": "d61d99f3-63df-405e-9a98-10d544be9d6a",
   "metadata": {
    "ExecuteTime": {
     "end_time": "2024-11-09T04:47:19.750150Z",
     "start_time": "2024-11-09T04:47:10.555041Z"
    }
   },
   "outputs": [
    {
     "name": "stdout",
     "output_type": "stream",
     "text": [
      "4526 couples found.\n"
     ]
    }
   ],
   "source": [
    "# Initialize the list to store all couples\n",
    "all_couples = []\n",
    "with ThreadPoolExecutor(max_workers=num_threads) as executor:\n",
    "    futures = [executor.submit(process_commits, chunk) for chunk in all_commits]\n",
    "    for future in as_completed(futures):\n",
    "        couples = future.result()\n",
    "        all_couples.extend(couples)\n",
    "\n",
    "print(f\"{len(all_couples)} couples found.\")"
   ]
  },
  {
   "cell_type": "markdown",
   "id": "a561f68a55626b36",
   "metadata": {},
   "source": [
    "### Create the dataframe"
   ]
  },
  {
   "cell_type": "code",
   "execution_count": 13,
   "id": "7cffa64c-99d0-4c48-ab3c-1c7d7409d20d",
   "metadata": {
    "ExecuteTime": {
     "end_time": "2024-11-09T04:47:19.843Z",
     "start_time": "2024-11-09T04:47:19.836796Z"
    }
   },
   "outputs": [],
   "source": [
    "# Convert the list of tuples into a DataFrame\n",
    "df_files = pd.DataFrame(all_couples, columns=['Issue Key', 'File', 'Commit'])"
   ]
  },
  {
   "cell_type": "markdown",
   "id": "7f928a168eed9976",
   "metadata": {},
   "source": [
    "### Keep only Java and C++ files"
   ]
  },
  {
   "cell_type": "code",
   "execution_count": 14,
   "id": "c1284e64-dd71-4794-8c5d-e12976778e7a",
   "metadata": {
    "ExecuteTime": {
     "end_time": "2024-11-09T04:47:19.874594Z",
     "start_time": "2024-11-09T04:47:19.869483Z"
    }
   },
   "outputs": [],
   "source": [
    "df_filtered = df_files[df_files['File'].str.endswith(('.java', '.cpp', '.c', '.h'))]"
   ]
  },
  {
   "cell_type": "markdown",
   "id": "aa8d45c9fd3c9b10",
   "metadata": {},
   "source": [
    "### Create tag dictionary to get only release versions"
   ]
  },
  {
   "cell_type": "code",
   "execution_count": 15,
   "id": "382d6f72-11e9-42fd-8298-c0c9bbefa164",
   "metadata": {
    "ExecuteTime": {
     "end_time": "2024-11-09T04:47:20.016245Z",
     "start_time": "2024-11-09T04:47:19.882117Z"
    }
   },
   "outputs": [],
   "source": [
    "# Get all tags\n",
    "tags = repo.tags\n",
    "versions = {}\n",
    "\n",
    "for tag in tags:\n",
    "    # Get the commit of the tag\n",
    "    commit = tag.commit\n",
    "    commit_date = commit.committed_datetime.strftime('%Y-%m-%d')\n",
    "    versions[tag.name] = commit_date\n",
    "\n",
    "# Afficher les versions et leurs dates\n",
    "# print(versions)"
   ]
  },
  {
   "cell_type": "markdown",
   "id": "40b7b88c2f916028",
   "metadata": {},
   "source": [
    "### Filter tags to keep only release versions"
   ]
  },
  {
   "cell_type": "code",
   "execution_count": 16,
   "id": "0b636965-9ffe-41a9-894e-e9a6705d4467",
   "metadata": {
    "ExecuteTime": {
     "end_time": "2024-11-09T04:47:20.034097Z",
     "start_time": "2024-11-09T04:47:20.029051Z"
    }
   },
   "outputs": [],
   "source": [
    "filtered_versions = {tag: date for tag, date in versions.items() if tag.startswith('release-') and '-rc' not in tag}\n",
    "cleaned_versions = {tag.replace('release-', ''): date for tag, date in filtered_versions.items()}\n",
    "# Display the cleaned versions\n",
    "# print(cleaned_versions)"
   ]
  },
  {
   "cell_type": "code",
   "execution_count": 17,
   "id": "add22dd6-7def-4b0a-b4b0-6c8523525fde",
   "metadata": {
    "ExecuteTime": {
     "end_time": "2024-11-09T04:47:20.052524Z",
     "start_time": "2024-11-09T04:47:20.048086Z"
    }
   },
   "outputs": [],
   "source": [
    "# Convertir le dictionnaire des versions en DataFrame\n",
    "df_versions = pd.DataFrame(list(cleaned_versions.items()), columns=['Version', 'Release Date'])"
   ]
  },
  {
   "cell_type": "code",
   "execution_count": 18,
   "id": "fe5b8ce0-9dec-42e6-a353-7502f38a713b",
   "metadata": {
    "ExecuteTime": {
     "end_time": "2024-11-09T04:47:20.068346Z",
     "start_time": "2024-11-09T04:47:20.065068Z"
    }
   },
   "outputs": [],
   "source": [
    "# Sauvegarder dans un fichier CSV\n",
    "# df_versions.to_csv(\"versions.csv\", index=False)"
   ]
  },
  {
   "cell_type": "code",
   "execution_count": 19,
   "id": "3bcebad4-983b-4a01-be49-7008bc900f6c",
   "metadata": {
    "ExecuteTime": {
     "end_time": "2024-11-09T04:47:22.827Z",
     "start_time": "2024-11-09T04:47:20.081344Z"
    }
   },
   "outputs": [
    {
     "name": "stdout",
     "output_type": "stream",
     "text": [
      "Derniers commits pour chaque version : {'0.10.0': 'a786579fa0bb3245adea9c19d0da5fbbe7930f64', '0.11.0': '2c87e89b0305f42337070104a0d179c8910696f8', '0.12.0': 'd8ef271429d588413e42f30ecb3efae99ef25819', '0.13.0': '12b8bc55c4b2ff8bc9662e31fe88a209655f6f84', '0.13.1': '3fcc32002d8ce3f010cac0423f3cce69a90a4b09', '0.14.0': '5dc2367785e01dbe703790931a339d88e777c7a4', '0.3.0': 'd8701ea32ab24e4c19d583ba9b40f4789703245b', '0.4.0': 'd8701ea32ab24e4c19d583ba9b40f4789703245b', '0.4.1': 'd8701ea32ab24e4c19d583ba9b40f4789703245b', '0.5.0': 'd8701ea32ab24e4c19d583ba9b40f4789703245b', '0.6.0': 'd8701ea32ab24e4c19d583ba9b40f4789703245b', '0.7.0': 'eb72421c75c56c2fa62527c326f7835e128caca8', '0.7.1': '4f5b4e22cc19e85de8f3bfda29551954bd69a8ee', '0.8.0': '6e21fe1d209be0569b33f9c3f79d0d2fbdc50507', '0.8.1': '3555cf32326280f2b1c4391ae7fb911763941df5', '0.9.0': '09e9a233748c6b25b5485e6a8b3886bc7bede89d', '1.0.0': '7be040c5acc842f771e40f8fe0b6dca37c14a729', '1.0.1': '31383348c1bd32b7991a20b793a362cca19987e9', '1.1.0': 'a5837ed97b550c642b04909fe4c13a3e8ff7dc9e', '1.1.1': '31383348c1bd32b7991a20b793a362cca19987e9', '1.2.0': '31383348c1bd32b7991a20b793a362cca19987e9', '1.2.1': 'b98a30b1b9172fdc5a74fc272393c5eec4344c74', '2.0.0': '2a0dc3c3ff4ac914a967bd62d90ba9801cc04c57', '2.0.1': 'e073cce2354801e12c4767f47a76fbf25168d026'}\n"
     ]
    }
   ],
   "source": [
    "commits_for_versions = {}\n",
    "for index, row in df_versions.iterrows():\n",
    "    version = row['Version']\n",
    "    date = row['Release Date']\n",
    "    \n",
    "    # Obtenir le dernier commit avant la date de version\n",
    "    commit = repo.git.log('--before', date, '-n', '1', '--pretty=format:%H')\n",
    "    commits_for_versions[version] = commit\n",
    "\n",
    "print(\"Derniers commits pour chaque version :\", commits_for_versions)"
   ]
  },
  {
   "cell_type": "code",
   "execution_count": null,
   "id": "8f1af370-42c6-47af-9b1b-4985b2a2e876",
   "metadata": {
    "ExecuteTime": {
     "end_time": "2024-11-09T04:47:22.911917Z",
     "start_time": "2024-11-09T04:47:22.909056Z"
    }
   },
   "outputs": [],
   "source": []
  }
 ],
 "metadata": {
  "kernelspec": {
   "display_name": "Python 3 (ipykernel)",
   "language": "python",
   "name": "python3"
  },
  "language_info": {
   "codemirror_mode": {
    "name": "ipython",
    "version": 3
   },
   "file_extension": ".py",
   "mimetype": "text/x-python",
   "name": "python",
   "nbconvert_exporter": "python",
   "pygments_lexer": "ipython3",
   "version": "3.11.6"
  }
 },
 "nbformat": 4,
 "nbformat_minor": 5
}
