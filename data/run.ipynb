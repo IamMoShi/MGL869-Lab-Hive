{
 "cells": [
  {
   "cell_type": "markdown",
   "id": "a96c7a902fdf51bd",
   "metadata": {},
   "source": [
    "# MGL 869 - Hive - Groupe 8 - Lab \n",
    "\n",
    "---\n"
   ]
  },
  {
   "cell_type": "markdown",
   "id": "7a4768b77d1ac886",
   "metadata": {},
   "source": [
    "## Packages"
   ]
  },
  {
   "cell_type": "code",
   "execution_count": 1,
   "id": "initial_id",
   "metadata": {},
   "outputs": [],
   "source": [
    "import pandas as pd\n",
    "import os\n",
    "import git\n",
    "import re\n",
    "from concurrent.futures import ThreadPoolExecutor, as_completed, ProcessPoolExecutor\n",
    "import subprocess"
   ]
  },
  {
   "cell_type": "markdown",
   "id": "c18eca7f-29df-427d-a180-17b42c425557",
   "metadata": {},
   "source": [
    "## Global variables"
   ]
  },
  {
   "cell_type": "code",
   "execution_count": 2,
   "id": "e05fad00-d627-466d-9f44-c2c4e25a9bc3",
   "metadata": {},
   "outputs": [],
   "source": [
    "HIVE_CSV_path = 'ApacheHiveCSV'\n",
    "HIVE_CSV_separator = '^'\n",
    "GIT_HIVE_path = 'repo'\n",
    "GIT_url = 'git@github.com:apache/hive.git'"
   ]
  },
  {
   "cell_type": "markdown",
   "id": "96f9faa0-ec35-49e6-bb10-ebaa252c7c9a",
   "metadata": {},
   "source": [
    "## OS environment"
   ]
  },
  {
   "cell_type": "code",
   "execution_count": 3,
   "id": "e1e0a1da-611b-4063-bd55-2b125eee1628",
   "metadata": {},
   "outputs": [],
   "source": [
    "os.makedirs('output', exist_ok=True)\n",
    "current_project_path = os.getcwd()"
   ]
  },
  {
   "cell_type": "markdown",
   "id": "bdc3e99b-7f0e-44ac-a81a-2345e944bfd1",
   "metadata": {},
   "source": [
    "## Git environment"
   ]
  },
  {
   "cell_type": "code",
   "execution_count": 4,
   "id": "5fc4dd81-709b-48ba-9a0d-ad7231c9b970",
   "metadata": {},
   "outputs": [],
   "source": [
    "# Current project path\n",
    "current_project_path = os.getcwd()\n",
    "# Parent directory\n",
    "parent_directory = os.path.dirname(current_project_path)\n",
    "# Repository path\n",
    "repo_path = current_project_path + '/' + GIT_HIVE_path\n",
    "# Repository url\n",
    "rep_url = GIT_url"
   ]
  },
  {
   "cell_type": "markdown",
   "id": "20b68da8-2bd6-4c87-9bbf-a732792a0985",
   "metadata": {},
   "source": [
    "## Extract data from Hive\n",
    "\n",
    "### Function to create dataframe from multiple sources"
   ]
  },
  {
   "cell_type": "code",
   "execution_count": 5,
   "id": "abd98a4b-8989-4f2a-8b01-1893b03c8ab8",
   "metadata": {},
   "outputs": [],
   "source": [
    "def createHiveDataFrame():\n",
    "    csv_files = [os.path.join(HIVE_CSV_path, file) for file in os.listdir(HIVE_CSV_path) if file.endswith('.csv')]\n",
    "    dataframes = [pd.read_csv(file, sep=\"^\") for file in csv_files]\n",
    "    \n",
    "    dataframes_filtered = []\n",
    "    for df in dataframes:\n",
    "        fix_version_columns = [col for col in df.columns if col.startswith('Fix Version/s')]\n",
    "        affects_version_columns = [col for col in df.columns if col.startswith('Affects Version/s')]\n",
    "    \n",
    "        df['Fix Versions Combined'] = df[fix_version_columns].apply(lambda x: ', '.join(x.dropna().astype(str)), axis=1)\n",
    "        df['Affects Versions Combined'] = df[affects_version_columns].apply(lambda x: ', '.join(x.dropna().astype(str)),\n",
    "                                                                            axis=1)\n",
    "    \n",
    "        # Supprimer les colonnes originales\n",
    "        df = df.drop(fix_version_columns, axis=1)\n",
    "        df = df.drop(affects_version_columns, axis=1)\n",
    "    \n",
    "        keep: list = ['Issue key', 'Status', 'Resolution', 'Created', 'Fix Versions Combined', 'Affects Versions Combined']\n",
    "        df = df.loc[:, keep]\n",
    "    \n",
    "        dataframes_filtered.append(df)\n",
    "    return dataframes_filtered"
   ]
  },
  {
   "cell_type": "markdown",
   "id": "46acd5d9-578a-4cde-a116-41454743d9f3",
   "metadata": {},
   "source": [
    "### Create dataframe"
   ]
  },
  {
   "cell_type": "code",
   "execution_count": 6,
   "id": "daebf89e-b543-4958-bd14-d3e22a571ffc",
   "metadata": {},
   "outputs": [],
   "source": [
    "df_merged = pd.concat(createHiveDataFrame(), ignore_index=True, sort=False)"
   ]
  },
  {
   "cell_type": "markdown",
   "id": "eea6db51-9b16-412f-a47f-a8b1ee388c72",
   "metadata": {},
   "source": [
    "### Save dataframe in a file"
   ]
  },
  {
   "cell_type": "code",
   "execution_count": 7,
   "id": "b0e3fee4-3a65-44e4-ac6b-c6aa498f2909",
   "metadata": {},
   "outputs": [],
   "source": [
    "df_merged.to_csv('output/filtered_data.csv')"
   ]
  },
  {
   "cell_type": "markdown",
   "id": "c29cd742-0b3a-4a96-9782-6fde54e72515",
   "metadata": {},
   "source": [
    "### Collect bug ids"
   ]
  },
  {
   "cell_type": "code",
   "execution_count": 8,
   "id": "96ff62e9-0e2e-47bc-a9c2-1c75fce92c78",
   "metadata": {},
   "outputs": [],
   "source": [
    "# Create a set of all the ids\n",
    "ids = set(df_merged[df_merged.columns[df_merged.columns.str.contains('Issue key')]].values.flatten())"
   ]
  },
  {
   "cell_type": "markdown",
   "id": "c34b6897-9e18-4870-b031-c5f38dc5b584",
   "metadata": {},
   "source": [
    "## Git research\n",
    "### Clone if repo isn't already clone"
   ]
  },
  {
   "cell_type": "code",
   "execution_count": 9,
   "id": "bfe97984-8cc8-47c3-bcfa-f414dfd77b43",
   "metadata": {},
   "outputs": [],
   "source": [
    "# Check if repo exists\n",
    "if not os.path.exists(repo_path) or not os.path.exists(os.path.join(repo_path, '.git')):\n",
    "    repo = git.Repo.clone_from(repo_url, repo_path)\n",
    "else:\n",
    "    repo = git.Repo(repo_path)"
   ]
  },
  {
   "cell_type": "markdown",
   "id": "a342d15b-1b08-483b-bc8d-e5292d3f8262",
   "metadata": {},
   "source": [
    "### Regex to find bug names in commits"
   ]
  },
  {
   "cell_type": "code",
   "execution_count": 10,
   "id": "d973aec8-54dd-49df-81e7-13b9fb4b65e9",
   "metadata": {},
   "outputs": [],
   "source": [
    "pattern = re.compile(r'HIVE-(\\d{3,5})')"
   ]
  },
  {
   "cell_type": "markdown",
   "id": "74bf3766-c263-49d0-b64f-4179573cb724",
   "metadata": {},
   "source": [
    "### Function to find files modified for a list of commit"
   ]
  },
  {
   "cell_type": "code",
   "execution_count": 11,
   "id": "7f90f602-fb92-4881-a632-2ee236f8756d",
   "metadata": {},
   "outputs": [],
   "source": [
    "# Function to process a batch of commits\n",
    "def process_commits(commits):\n",
    "    print(f'Processing {len(commits)} commits')\n",
    "    local_repo = git.Repo(repo_path)\n",
    "    couples = []\n",
    "    for key in commits:\n",
    "        commit_id = key\n",
    "        for match in commits[key]:\n",
    "            hive_key = f'HIVE-{match}'\n",
    "            if hive_key in ids:\n",
    "                for file in local_repo.commit(commit_id).stats.files:\n",
    "                    couples.append((hive_key, file))\n",
    "                \n",
    "    print(f'Finished processing {len(commits)} commits')\n",
    "    return couples"
   ]
  },
  {
   "cell_type": "markdown",
   "id": "113e9d5f-a3dd-4deb-b30c-94cbf683e58f",
   "metadata": {},
   "source": [
    "### Prepare research in batch bug research in commits"
   ]
  },
  {
   "cell_type": "code",
   "execution_count": 12,
   "id": "7f2458e7-d264-4229-8a67-6a15f62d1c27",
   "metadata": {},
   "outputs": [],
   "source": [
    "num_threads = os.cpu_count() # Get the number of threads of the CPU\n",
    "chunk_size = len(list(repo.iter_commits())) // num_threads\n",
    "\n",
    "# Get all commits and files\n",
    "all_commits = [{} for _ in range(num_threads)]\n",
    "\n",
    "for i, commit in enumerate(repo.iter_commits()):\n",
    "    matches = pattern.findall(commit.message)\n",
    "    if matches:\n",
    "        all_commits[i // chunk_size][commit.hexsha] = matches\n"
   ]
  },
  {
   "cell_type": "code",
   "execution_count": 13,
   "id": "d61d99f3-63df-405e-9a98-10d544be9d6a",
   "metadata": {},
   "outputs": [
    {
     "name": "stdout",
     "output_type": "stream",
     "text": [
      "Processing 1078 commits\n",
      "Processing 1054 commits\n",
      "Processing 1050 commits\n",
      "Processing 1083 commits\n",
      "Processing 1084 commits\n",
      "Processing 1083 commits\n",
      "Processing 1078 commits\n",
      "Processing 1083 commits\n",
      "Processing 1070 commits\n",
      "Processing 1065 commits\n",
      "Processing 1005 commits\n",
      "Processing 1054 commits\n",
      "Processing 1046 commits\n",
      "Processing 1017 commits\n",
      "Processing 1058 commits\n",
      "Processing 995 commits\n",
      "Finished processing 1078 commits\n",
      "Finished processing 1054 commits\n",
      "Finished processing 1005 commits\n",
      "Finished processing 1054 commits\n",
      "Finished processing 1046 commits\n",
      "Finished processing 1017 commits\n",
      "Finished processing 995 commits\n",
      "Finished processing 1058 commits\n",
      "Finished processing 1084 commits\n",
      "Finished processing 1050 commits\n",
      "Finished processing 1083 commits\n",
      "Finished processing 1083 commits\n",
      "Finished processing 1078 commits\n",
      "Finished processing 1083 commits\n",
      "Finished processing 1065 commits\n",
      "Finished processing 1070 commits\n"
     ]
    }
   ],
   "source": [
    "# Initialize the list to store all couples\n",
    "all_couples = []\n",
    "with ThreadPoolExecutor(max_workers=num_threads) as executor:\n",
    "    futures = [executor.submit(process_commits, chunk) for chunk in all_commits]\n",
    "    for future in as_completed(futures):\n",
    "        couples = future.result()\n",
    "        all_couples.extend(couples)"
   ]
  },
  {
   "cell_type": "code",
   "execution_count": 14,
   "id": "7cffa64c-99d0-4c48-ab3c-1c7d7409d20d",
   "metadata": {},
   "outputs": [],
   "source": [
    "# Convert the list of tuples into a DataFrame\n",
    "df_couples = pd.DataFrame(all_couples, columns=['Issue Key', 'File'])\n",
    "# Save the DataFrame to a CSV file\n",
    "df_couples.to_csv('couples.csv', index=False)"
   ]
  },
  {
   "cell_type": "code",
   "execution_count": 15,
   "id": "c1284e64-dd71-4794-8c5d-e12976778e7a",
   "metadata": {},
   "outputs": [],
   "source": [
    "# Charger le fichier CSV\n",
    "df_couples = pd.read_csv(\"couples.csv\")\n",
    "# Garder seulement les fichiers Java ou C++\n",
    "df_filtered = df_couples[df_couples['File'].str.endswith(('.java', '.cpp', '.c', '.h'))]\n",
    "# Sauvegarder le fichier filtré si besoin\n",
    "df_filtered.to_csv(\"filtered_couples.csv\", index=False)"
   ]
  },
  {
   "cell_type": "code",
   "execution_count": 16,
   "id": "382d6f72-11e9-42fd-8298-c0c9bbefa164",
   "metadata": {},
   "outputs": [
    {
     "name": "stdout",
     "output_type": "stream",
     "text": [
      "{'branch-3.1.2-rc0': '2020-01-13', 'branch-3.1.3-rc0': '2020-01-13', 'master_2015_11_30': '2015-11-29', 'rel/release-1.2.2': '2017-04-01', 'rel/release-2.1.0': '2016-06-17', 'rel/release-2.1.1': '2016-11-29', 'rel/release-2.2.0': '2017-07-21', 'rel/release-2.3.0': '2017-07-13', 'rel/release-2.3.1': '2017-10-19', 'rel/release-2.3.10': '2024-05-04', 'rel/release-2.3.2': '2017-11-09', 'rel/release-2.3.3': '2018-03-28', 'rel/release-2.3.4': '2018-10-31', 'rel/release-2.3.5': '2019-05-07', 'rel/release-2.3.6': '2019-08-13', 'rel/release-2.3.7': '2020-04-07', 'rel/release-2.3.8': '2021-01-06', 'rel/release-2.3.9': '2021-06-01', 'rel/release-3.0.0': '2018-05-17', 'rel/release-3.1.0': '2018-07-23', 'rel/release-3.1.1': '2018-10-23', 'rel/release-3.1.2': '2019-08-22', 'rel/release-3.1.3': '2022-03-24', 'rel/release-4.0.0': '2024-03-21', 'rel/release-4.0.0-alpha-1': '2022-03-22', 'rel/release-4.0.0-alpha-2': '2022-11-07', 'rel/release-4.0.0-beta-1': '2023-08-07', 'rel/release-4.0.1': '2024-09-26', 'rel/standalone-metastore-release-3.0.0': '2018-05-17', 'rel/storage-release-2.2.0': '2017-01-09', 'rel/storage-release-2.2.1': '2017-02-16', 'rel/storage-release-2.3.0': '2017-04-26', 'rel/storage-release-2.3.1': '2017-05-30', 'rel/storage-release-2.4.0': '2017-07-10', 'rel/storage-release-2.5.0': '2018-03-22', 'rel/storage-release-2.6.0': '2018-04-26', 'rel/storage-release-2.6.1': '2018-05-08', 'rel/storage-release-2.7.0': '2018-07-12', 'rel/storage-release-2.7.1': '2019-11-26', 'rel/storage-release-2.7.2': '2020-05-05', 'rel/storage-release-2.7.3': '2021-07-29', 'rel/storage-release-2.8.1': '2021-07-29', 'release-0.10.0': '2013-01-10', 'release-0.11.0': '2013-05-16', 'release-0.12.0': '2013-10-14', 'release-0.13.0': '2014-04-19', 'release-0.13.1': '2014-06-05', 'release-0.14.0': '2014-11-12', 'release-0.3.0': '2010-10-26', 'release-0.4.0': '2010-10-26', 'release-0.4.1': '2010-10-26', 'release-0.5.0': '2010-10-26', 'release-0.6.0': '2010-10-26', 'release-0.7.0': '2011-03-25', 'release-0.7.1': '2011-06-17', 'release-0.8.0': '2011-12-16', 'release-0.8.1': '2012-01-30', 'release-0.9.0': '2012-04-27', 'release-1.0.0': '2015-02-03', 'release-1.0.1': '2015-05-14', 'release-1.1.0': '2015-03-09', 'release-1.1.1': '2015-05-14', 'release-1.2.0': '2015-05-14', 'release-1.2.1': '2015-06-19', 'release-2.0.0': '2016-02-09', 'release-2.0.1': '2016-05-03', 'release-2.3.10-rc0': '2024-04-20', 'release-2.3.10-rc1': '2024-05-04', 'release-2.3.5-rc0': '2019-05-07', 'release-2.3.8-rc0': '2020-12-07', 'release-2.3.8-rc1': '2020-12-09', 'release-2.3.8-rc2': '2020-12-14', 'release-2.3.8-rc3': '2021-01-06', 'release-2.3.9-rc0': '2021-06-01', 'release-3.1.2-rc0': '2019-08-21', 'release-3.1.3-rc0': '2022-02-27', 'release-3.1.3-rc1': '2022-03-08', 'release-3.1.3-rc2': '2022-03-24', 'release-3.1.3-rc3': '2022-03-24', 'storage-release-2.7.0-rc0': '2018-07-06', 'storage-release-2.7.0-rc1': '2018-07-12', 'storage-release-2.7.2-rc0': '2020-03-24', 'storage-release-2.7.2-rc1': '2020-05-05', 'storage-release-2.7.3-rc0': '2021-06-07', 'storage-release-2.7.3-rc1': '2021-07-26', 'storage-release-2.7.3-rc2': '2021-07-29', 'storage-release-2.8.0-rc0': '2021-06-18', 'storage-release-2.8.1-rc0': '2021-07-23', 'storage-release-2.8.1-rc1': '2021-07-26', 'storage-release-2.8.1-rc2': '2021-07-29'}\n"
     ]
    }
   ],
   "source": [
    "# Obtenir tous les tags et leurs dates de création\n",
    "tags = repo.tags\n",
    "versions = {}\n",
    "\n",
    "for tag in tags:\n",
    "    # Récupérer la date de création du commit associé au tag\n",
    "    commit = tag.commit\n",
    "    commit_date = commit.committed_datetime.strftime('%Y-%m-%d')\n",
    "    versions[tag.name] = commit_date\n",
    "\n",
    "# Afficher les versions et leurs dates\n",
    "print(versions)"
   ]
  },
  {
   "cell_type": "code",
   "execution_count": 17,
   "id": "0b636965-9ffe-41a9-894e-e9a6705d4467",
   "metadata": {},
   "outputs": [
    {
     "name": "stdout",
     "output_type": "stream",
     "text": [
      "{'0.10.0': '2013-01-10', '0.11.0': '2013-05-16', '0.12.0': '2013-10-14', '0.13.0': '2014-04-19', '0.13.1': '2014-06-05', '0.14.0': '2014-11-12', '0.3.0': '2010-10-26', '0.4.0': '2010-10-26', '0.4.1': '2010-10-26', '0.5.0': '2010-10-26', '0.6.0': '2010-10-26', '0.7.0': '2011-03-25', '0.7.1': '2011-06-17', '0.8.0': '2011-12-16', '0.8.1': '2012-01-30', '0.9.0': '2012-04-27', '1.0.0': '2015-02-03', '1.0.1': '2015-05-14', '1.1.0': '2015-03-09', '1.1.1': '2015-05-14', '1.2.0': '2015-05-14', '1.2.1': '2015-06-19', '2.0.0': '2016-02-09', '2.0.1': '2016-05-03'}\n"
     ]
    }
   ],
   "source": [
    "# Filtrer pour garder uniquement les versions principales\n",
    "filtered_versions = {tag: date for tag, date in versions.items() if tag.startswith('release-') and '-rc' not in tag}\n",
    "cleaned_versions = {tag.replace('release-', ''): date for tag, date in filtered_versions.items()}\n",
    "# Afficher les versions principales et leurs dates de sortie\n",
    "print(cleaned_versions)"
   ]
  },
  {
   "cell_type": "code",
   "execution_count": 18,
   "id": "add22dd6-7def-4b0a-b4b0-6c8523525fde",
   "metadata": {},
   "outputs": [],
   "source": [
    "# Convertir le dictionnaire des versions en DataFrame\n",
    "df_versions = pd.DataFrame(list(cleaned_versions.items()), columns=['Version', 'Release Date'])"
   ]
  },
  {
   "cell_type": "code",
   "execution_count": 19,
   "id": "fe5b8ce0-9dec-42e6-a353-7502f38a713b",
   "metadata": {},
   "outputs": [],
   "source": [
    "# Sauvegarder dans un fichier CSV\n",
    "df_versions.to_csv(\"versions.csv\", index=False)"
   ]
  },
  {
   "cell_type": "code",
   "execution_count": 20,
   "id": "3bcebad4-983b-4a01-be49-7008bc900f6c",
   "metadata": {},
   "outputs": [
    {
     "name": "stdout",
     "output_type": "stream",
     "text": [
      "Derniers commits pour chaque version : {'0.10.0': 'a786579fa0bb3245adea9c19d0da5fbbe7930f64', '0.11.0': '2c87e89b0305f42337070104a0d179c8910696f8', '0.12.0': '811a8b763c35f5c197a94ec311424a077ba2a72b', '0.13.0': 'aaa25fcc41c54767e22bab655dc0096f98fb50f0', '0.13.1': '3fcc32002d8ce3f010cac0423f3cce69a90a4b09', '0.14.0': 'efc8b08672216ca61eee1dfa43187decb094bc81', '0.3.0': 'd8701ea32ab24e4c19d583ba9b40f4789703245b', '0.4.0': 'd8701ea32ab24e4c19d583ba9b40f4789703245b', '0.4.1': 'd8701ea32ab24e4c19d583ba9b40f4789703245b', '0.5.0': 'd8701ea32ab24e4c19d583ba9b40f4789703245b', '0.6.0': 'd8701ea32ab24e4c19d583ba9b40f4789703245b', '0.7.0': 'eb72421c75c56c2fa62527c326f7835e128caca8', '0.7.1': '4f5b4e22cc19e85de8f3bfda29551954bd69a8ee', '0.8.0': '9f2a9ee7b32ed4527d6b1cc2238df535998da2b0', '0.8.1': 'd31122f3f6d77f79e42649e524887bfdce72706f', '0.9.0': '09e9a233748c6b25b5485e6a8b3886bc7bede89d', '1.0.0': 'd4684e994465225380dd604eb0da1a2bff6fb42b', '1.0.1': '31383348c1bd32b7991a20b793a362cca19987e9', '1.1.0': 'a5837ed97b550c642b04909fe4c13a3e8ff7dc9e', '1.1.1': '31383348c1bd32b7991a20b793a362cca19987e9', '1.2.0': '31383348c1bd32b7991a20b793a362cca19987e9', '1.2.1': 'b98a30b1b9172fdc5a74fc272393c5eec4344c74', '2.0.0': '4fa0f665968bdc6a8c615994f2591d7bff49a1f6', '2.0.1': 'e073cce2354801e12c4767f47a76fbf25168d026'}\n"
     ]
    }
   ],
   "source": [
    "commits_for_versions = {}\n",
    "for index, row in df_versions.iterrows():\n",
    "    version = row['Version']\n",
    "    date = row['Release Date']\n",
    "    \n",
    "    # Obtenir le dernier commit avant la date de version\n",
    "    commit = repo.git.log('--before', date, '-n', '1', '--pretty=format:%H')\n",
    "    commits_for_versions[version] = commit\n",
    "\n",
    "print(\"Derniers commits pour chaque version :\", commits_for_versions)"
   ]
  },
  {
   "cell_type": "code",
   "execution_count": null,
   "id": "8f1af370-42c6-47af-9b1b-4985b2a2e876",
   "metadata": {},
   "outputs": [],
   "source": []
  }
 ],
 "metadata": {
  "kernelspec": {
   "display_name": "Python 3 (ipykernel)",
   "language": "python",
   "name": "python3"
  },
  "language_info": {
   "codemirror_mode": {
    "name": "ipython",
    "version": 3
   },
   "file_extension": ".py",
   "mimetype": "text/x-python",
   "name": "python",
   "nbconvert_exporter": "python",
   "pygments_lexer": "ipython3",
   "version": "3.11.6"
  }
 },
 "nbformat": 4,
 "nbformat_minor": 5
}
