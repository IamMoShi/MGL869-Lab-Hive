{
 "cells": [
  {
   "cell_type": "markdown",
   "id": "9aa166c8f436bbb8",
   "metadata": {},
   "source": [
    "# MGL869 - Lab\n",
    "\n",
    "*MGL869 ETS Montreal - Production engineering*\n",
    "\n",
    "## Abstract\n",
    "\n",
    "## Authors\n",
    "- **Léo FORNOFF**\n",
    "- **William PHAN**\n",
    "- **Yannis OUAKRIM**"
   ]
  },
  {
   "cell_type": "markdown",
   "id": "cc574ebf57602201",
   "metadata": {},
   "source": [
    "---\n",
    "\n",
    "## Part 1 : Data collection"
   ]
  },
  {
   "cell_type": "code",
   "id": "b5caf94fc63fdaf4",
   "metadata": {
    "ExecuteTime": {
     "end_time": "2024-11-20T23:44:33.397217Z",
     "start_time": "2024-11-20T23:44:31.076236Z"
    }
   },
   "source": [
    "from Jira import jira_download\n",
    "from pandas import Index\n",
    "from numpy import ndarray"
   ],
   "outputs": [],
   "execution_count": 1
  },
  {
   "cell_type": "markdown",
   "id": "af4622a84f52ca68",
   "metadata": {},
   "source": [
    "\n",
    "### 1.1 - Download Jira data\n",
    "We download data if they are not already present in the data folder.\n",
    "\n",
    "Return the dataframe of the data.\n",
    "\n",
    "Query filter can be defined in config.ini"
   ]
  },
  {
   "cell_type": "code",
   "id": "d4971d821b405286",
   "metadata": {
    "ExecuteTime": {
     "end_time": "2024-11-20T23:47:00.218802Z",
     "start_time": "2024-11-20T23:46:59.751178Z"
    }
   },
   "source": [
    "jira_dataframe = jira_download()"
   ],
   "outputs": [
    {
     "name": "stdout",
     "output_type": "stream",
     "text": [
      "Data already downloaded\n",
      "Filter = 'project=HIVE AND issuetype=Bug AND status in (Resolved, Closed) AND affectedVersion>= 2.0.0'\n"
     ]
    }
   ],
   "execution_count": 4
  },
  {
   "cell_type": "markdown",
   "id": "f8f051f67cbe342b",
   "metadata": {},
   "source": [
    "### 1.2 - Clean Jira data using pandas\n",
    "Previously, we downloaded all the data from Jira. Now, we will clean the data using pandas.\n",
    "We will keep only some colums and combine some columns."
   ]
  },
  {
   "cell_type": "code",
   "execution_count": 3,
   "id": "b6c04fde21e36891",
   "metadata": {},
   "outputs": [],
   "source": [
    "keep: [str] = ['Issue key', 'Status', 'Resolution', 'Created', 'Fix Versions Combined', 'Affects Versions Combined']"
   ]
  },
  {
   "cell_type": "code",
   "execution_count": 4,
   "id": "2d3d14c6e651890b",
   "metadata": {},
   "outputs": [],
   "source": [
    "affects_version_columns: [str] = [col for col in jira_dataframe.columns if col.startswith('Affects Version/s')]\n",
    "jira_dataframe['Affects Versions Combined'] = jira_dataframe[affects_version_columns].apply(\n",
    "    lambda x: ', '.join(x.dropna().astype(str)), axis=1\n",
    ")"
   ]
  },
  {
   "cell_type": "code",
   "execution_count": 5,
   "id": "1571fc3d63fa3d49",
   "metadata": {},
   "outputs": [],
   "source": [
    "# Combine the versions into a single column\n",
    "fix_version_columns: [str] = [col for col in jira_dataframe.columns if col.startswith('Fix Version/s')]\n",
    "\n",
    "jira_dataframe['Fix Versions Combined'] = jira_dataframe[fix_version_columns].apply(\n",
    "    lambda x: ', '.join(x.dropna().astype(str)), axis=1\n",
    ")"
   ]
  },
  {
   "cell_type": "code",
   "execution_count": 6,
   "id": "7229ab85b247aa84",
   "metadata": {},
   "outputs": [],
   "source": [
    "# Identify columns whose names contain the string 'Issue key'\n",
    "issue_key_columns: Index = jira_dataframe.columns[jira_dataframe.columns.str.contains('Issue key')]\n",
    "# Extract the values from these columns as a NumPy array\n",
    "issue_key_values: ndarray = jira_dataframe[issue_key_columns].values\n",
    "# Flatten the array to create a one-dimensional list of all 'Issue key' values\n",
    "flattened_issue_keys: ndarray = issue_key_values.flatten()\n",
    "# Convert the list into a set to remove duplicates\n",
    "ids: set = set(flattened_issue_keys)"
   ]
  },
  {
   "cell_type": "markdown",
   "id": "c56c59729f4f2bd8",
   "metadata": {},
   "source": [
    "---\n",
    "\n",
    "\n",
    "## Part 2 : Repository analysis\n"
   ]
  },
  {
   "cell_type": "code",
   "id": "af5c65ce22975fa2",
   "metadata": {
    "ExecuteTime": {
     "end_time": "2024-11-21T00:04:39.511756Z",
     "start_time": "2024-11-21T00:04:38.866764Z"
    }
   },
   "source": [
    "from Hive import git_download, commit_analysis\n",
    "from git import Repo, Tag\n",
    "from pandas import DataFrame\n",
    "from configparser import ConfigParser\n",
    "from re import compile"
   ],
   "outputs": [],
   "execution_count": 1
  },
  {
   "cell_type": "markdown",
   "id": "2c7e1094fe45f12b",
   "metadata": {},
   "source": [
    "### 2.1 - Clone repository"
   ]
  },
  {
   "cell_type": "code",
   "id": "da70cec527312bb6",
   "metadata": {
    "ExecuteTime": {
     "end_time": "2024-11-20T23:48:07.689653Z",
     "start_time": "2024-11-20T23:48:06.629293Z"
    }
   },
   "source": [
    "repo: Repo = git_download()"
   ],
   "outputs": [
    {
     "name": "stdout",
     "output_type": "stream",
     "text": [
      "data\\hive_data\\hiveRepo False\n",
      "Pulling the repository: https://github.com/apache/hive.git\n"
     ]
    }
   ],
   "execution_count": 6
  },
  {
   "cell_type": "code",
   "execution_count": 9,
   "id": "440e0445aebd0288",
   "metadata": {},
   "outputs": [
    {
     "name": "stdout",
     "output_type": "stream",
     "text": [
      "20524 couples found.\n"
     ]
    }
   ],
   "source": [
    "all_couples = commit_analysis(ids)"
   ]
  },
  {
   "cell_type": "markdown",
   "id": "bc716ced26d7531a",
   "metadata": {},
   "source": [
    "### 2.2 - Filter data"
   ]
  },
  {
   "cell_type": "code",
   "execution_count": 10,
   "id": "6bac11954b2066d9",
   "metadata": {
    "ExecuteTime": {
     "end_time": "2024-11-20T04:16:26.388221Z",
     "start_time": "2024-11-20T04:16:26.378513Z"
    }
   },
   "outputs": [],
   "source": [
    "commit_dataframe: DataFrame = DataFrame(all_couples, columns=[\"Issue key\", \"File\", \"Commit\"])"
   ]
  },
  {
   "cell_type": "code",
   "execution_count": 11,
   "id": "90c98946d2120458",
   "metadata": {
    "ExecuteTime": {
     "end_time": "2024-11-20T04:16:26.415350Z",
     "start_time": "2024-11-20T04:16:26.403683Z"
    }
   },
   "outputs": [],
   "source": [
    "# Languages without whitespaces\n",
    "config: ConfigParser = ConfigParser()\n",
    "config.read(\"config.ini\")\n",
    "languages: [str] = config[\"GENERAL\"][\"Languages\"].split(\",\")\n",
    "languages: [str] = [lang.strip() for lang in languages]\n",
    "commit_dataframe: DataFrame = commit_dataframe[commit_dataframe['File'].str.endswith(tuple(languages))]"
   ]
  },
  {
   "cell_type": "markdown",
   "id": "f496352e0c7a43f5",
   "metadata": {},
   "source": [
    "### 2.3 - Extract filter versions from git"
   ]
  },
  {
   "cell_type": "code",
   "execution_count": 12,
   "id": "ab6fbf64ca7a8f6f",
   "metadata": {
    "ExecuteTime": {
     "end_time": "2024-11-20T04:16:26.555772Z",
     "start_time": "2024-11-20T04:16:26.432450Z"
    }
   },
   "outputs": [],
   "source": [
    "releases_regex: [str] = config[\"GIT\"][\"ReleasesRegex\"].split(\",\")\n",
    "tags: Tag = repo.tags\n",
    "versions: dict = {tag.name: tag.commit for tag in tags}\n",
    "releases_regex: [str] = [regex.strip() for regex in releases_regex]\n",
    "releases_regex = [compile(regex) for regex in releases_regex]"
   ]
  },
  {
   "cell_type": "code",
   "execution_count": 13,
   "id": "418d3b719f004c46",
   "metadata": {
    "ExecuteTime": {
     "end_time": "2024-11-20T04:16:26.585618Z",
     "start_time": "2024-11-20T04:16:26.571752Z"
    }
   },
   "outputs": [
    {
     "data": {
      "text/plain": [
       "({'4.0.1': <git.Commit \"3af4517eb8cfd9407ad34ed78a0b48b57dfaa264\">,\n",
       "  '2.3.10': <git.Commit \"5160d3af392248255f68e41e1e0557eae4d95273\">,\n",
       "  '4.0.0': <git.Commit \"183f8cb41d3dbed961ffd27999876468ff06690c\">,\n",
       "  '3.1.3': <git.Commit \"4df4d75bf1e16fe0af75aad0b4179c34c07fc975\">,\n",
       "  '2.3.9': <git.Commit \"92dd0159f440ca7863be3232f3a683a510a62b9d\">,\n",
       "  '2.3.8': <git.Commit \"f1e87137034e4ecbe39a859d4ef44319800016d7\">,\n",
       "  '2.3.7': <git.Commit \"cb213d88304034393d68cc31a95be24f5aac62b6\">,\n",
       "  '3.1.2': <git.Commit \"8190d2be7b7165effa62bd21b7d60ef81fb0e4af\">,\n",
       "  '2.3.6': <git.Commit \"2c2fdd524e8783f6e1f3ef15281cc2d5ed08728f\">,\n",
       "  '2.3.5': <git.Commit \"76595628ae13b95162e77bba365fe4d2c60b3f29\">,\n",
       "  '2.3.4': <git.Commit \"56acdd2120b9ce6790185c679223b8b5e884aaf2\">,\n",
       "  '3.1.1': <git.Commit \"f4e0529634b6231a0072295da48af466cf2f10b7\">,\n",
       "  '3.1.0': <git.Commit \"bcc7df95824831a8d2f1524e4048dfc23ab98c19\">,\n",
       "  '3.0.0': <git.Commit \"ce61711a5fa54ab34fc74d86d521ecaeea6b072a\">,\n",
       "  '2.3.3': <git.Commit \"3f7dde31aed44b5440563d3f9d8a8887beccf0be\">,\n",
       "  '2.3.2': <git.Commit \"857a9fd8ad725a53bd95c1b2d6612f9b1155f44d\">,\n",
       "  '2.3.1': <git.Commit \"7590572d9265e15286628013268b2ce785c6aa08\">,\n",
       "  '2.2.0': <git.Commit \"da840b0f8fa99cab9f004810cd22abc207493cae\">,\n",
       "  '2.3.0': <git.Commit \"6f4c35c9e904d226451c465effdc5bfd31d395a0\">,\n",
       "  '1.2.2': <git.Commit \"395368fc6478c7e2a1e84a5a2a8aac45e4399a9e\">,\n",
       "  '2.1.1': <git.Commit \"1af77bbf8356e86cabbed92cfa8cc2e1470a1d5c\">,\n",
       "  '2.1.0': <git.Commit \"9265bc24d75ac945bde9ce1a0999fddd8f2aae29\">,\n",
       "  '2.0.1': <git.Commit \"e3cfeebcefe9a19c5055afdcbb00646908340694\">,\n",
       "  '2.0.0': <git.Commit \"7f9f1fcb8697fb33f0edc2c391930a3728d247d7\">,\n",
       "  '1.2.1': <git.Commit \"243e7c1ac39cb7ac8b65c5bc6988f5cc3162f558\">,\n",
       "  '1.2.0': <git.Commit \"7f237de447bcd726bb3d0ba332cbb733f39fc02f\">,\n",
       "  '1.1.1': <git.Commit \"3e8d832a1a8e2b12029adcb55862cf040098ef0f\">,\n",
       "  '1.0.1': <git.Commit \"73b600dc79ba8a9a32078a2ea0eb8ae3df20c9d5\">,\n",
       "  '1.1.0': <git.Commit \"e60744d017ef79f1b17f474c0b969d4ca5592462\">,\n",
       "  '1.0.0': <git.Commit \"697aecadc3ba62bc11f3ba0a6c8522daeec7b53f\">,\n",
       "  '0.14.0': <git.Commit \"70eea944afaf5f64b8939b2b3a0d8fdd33a41c18\">,\n",
       "  '0.13.1': <git.Commit \"89bb2e8c34386b43efa37ecc6918a50c4bfb005f\">,\n",
       "  '0.13.0': <git.Commit \"d0fe5f1b3ac361f747b12f9137322367da73652f\">,\n",
       "  '0.12.0': <git.Commit \"b77a6caafbba087bea617e87b566b5b55ff102f6\">,\n",
       "  '0.11.0': <git.Commit \"383fce63cb591359d27883be670d4155752cb181\">,\n",
       "  '0.10.0': <git.Commit \"7dde7825d80165e24497c6ae560407d4c0c42e2c\">,\n",
       "  '0.9.0': <git.Commit \"51807a7aa6ba31644cdfd046e5d81e969e111fad\">,\n",
       "  '0.8.1': <git.Commit \"9183f3472fb102eced7337f078f545a82dfaedee\">,\n",
       "  '0.8.0': <git.Commit \"d0d694303d3fb7375aa176e982ae945ac0be9f7e\">,\n",
       "  '0.7.1': <git.Commit \"a30e0962fe886e3cb8c9593f756cd3a1d44de3d5\">,\n",
       "  '0.7.0': <git.Commit \"5704958936ec8cef38744d46f52f6b4342a5bdcb\">,\n",
       "  '0.6.0': <git.Commit \"2f01e0500ce571b197f998a5c0de46e56e066a36\">,\n",
       "  '0.3.0': <git.Commit \"6aa1b4843ead1306553d6943f25a62363075ef72\">,\n",
       "  '0.4.0': <git.Commit \"7737f2fc1a66044221b402784dab534c684fb10c\">,\n",
       "  '0.4.1': <git.Commit \"ae049d52364ccbb09215952b801edf95259ca6b7\">,\n",
       "  '0.5.0': <git.Commit \"3ffc9bd7a41f577dfb0b0b068c26bfa4effade16\">},\n",
       " 46)"
      ]
     },
     "execution_count": 13,
     "metadata": {},
     "output_type": "execute_result"
    }
   ],
   "source": [
    "filtered_versions: dict = {}\n",
    "for version in versions:\n",
    "    if any(regex.match(version) for regex in releases_regex):\n",
    "        version_numbers = version.split(\"-\")[1]\n",
    "        filtered_versions[version_numbers] = versions[version]\n",
    "\n",
    "filtered_versions = dict(sorted(filtered_versions.items(),\n",
    "                                key=lambda item: item[1].committed_datetime,\n",
    "                                reverse=True))\n",
    "filtered_versions, len(filtered_versions)"
   ]
  },
  {
   "cell_type": "markdown",
   "id": "2bda8a7e729d746e",
   "metadata": {},
   "source": [
    "## Part 3. - Understand analysis"
   ]
  },
  {
   "cell_type": "code",
   "id": "341333382b3f4712",
   "metadata": {
    "ExecuteTime": {
     "end_time": "2024-11-21T00:04:53.611222Z",
     "start_time": "2024-11-21T00:04:53.578870Z"
    }
   },
   "source": [
    "from Understand.commands import und_create_command, und_analyze_command, und_metrics_command, und_purge_command\n",
    "from Understand.metrics import metrics\n",
    "from os import path"
   ],
   "outputs": [],
   "execution_count": 2
  },
  {
   "cell_type": "markdown",
   "id": "aa8504cac8b12909",
   "metadata": {},
   "source": [
    "### 3.1 - Create the Understand project\n"
   ]
  },
  {
   "cell_type": "code",
   "execution_count": 15,
   "id": "e897f593172bee81",
   "metadata": {
    "ExecuteTime": {
     "end_time": "2024-11-20T04:16:26.651135Z",
     "start_time": "2024-11-20T04:16:26.645112Z"
    }
   },
   "outputs": [],
   "source": [
    "hive_git_directory: str = config[\"GIT\"][\"HiveGitDirectory\"]\n",
    "data_directory: str = config[\"GENERAL\"][\"DataDirectory\"]\n",
    "understand_project_name : str = config[\"UNDERSTAND\"][\"UnderstandProjectName\"]\n",
    "\n",
    "understand_project_path : str = path.join(data_directory, hive_git_directory, understand_project_name)\n",
    "\n",
    "if not path.exists(understand_project_path):\n",
    "    und_create_command()"
   ]
  },
  {
   "cell_type": "code",
   "execution_count": 16,
   "id": "90fadd76a26bddbb",
   "metadata": {
    "ExecuteTime": {
     "end_time": "2024-11-20T04:16:27.831068Z",
     "start_time": "2024-11-20T04:16:26.670397Z"
    }
   },
   "outputs": [
    {
     "name": "stdout",
     "output_type": "stream",
     "text": [
      "Running command : \n",
      "     und purge -db data\\hive_data\\hive.und\n",
      "Database purged.\n",
      "\n"
     ]
    }
   ],
   "source": [
    "und_purge_command()"
   ]
  },
  {
   "cell_type": "code",
   "execution_count": null,
   "id": "41dab79156306ac6",
   "metadata": {
    "ExecuteTime": {
     "start_time": "2024-11-20T04:16:27.848863Z"
    },
    "jupyter": {
     "is_executing": true
    }
   },
   "outputs": [
    {
     "name": "stdout",
     "output_type": "stream",
     "text": [
      "Creating repo data\\temp_repositories\\4.0.1 from C:\\Users\\moshi\\Documents\\projects\\Informatique\\ETS\\MGL869\\MGL869-Lab-Hive\\data\\hive_data\\hiveRepo\n",
      "Creating the directory: data\\temp_repositories\\4.0.1\n",
      "Creating repo data\\temp_repositories\\2.3.10 from C:\\Users\\moshi\\Documents\\projects\\Informatique\\ETS\\MGL869\\MGL869-Lab-Hive\\data\\hive_data\\hiveRepo\n",
      "Creating the directory: data\\temp_repositories\\2.3.10\n",
      "Running command : \n",
      "     und create -db data\\temp_repositories\\2.3.10\\2.3.10.und -languages Java c++\n",
      "\n",
      "Analyzing commit 5160d3af392248255f68e41e1e0557eae4d95273\n",
      "Running command : \n",
      "     und add C:\\Users\\moshi\\Documents\\projects\\Informatique\\ETS\\MGL869\\MGL869-Lab-Hive\\data\\temp_repositories\\2.3.10 -db data\\temp_repositories\\2.3.10\\2.3.10.und\n",
      "Files added: 5118\n",
      "\n",
      "Running command : \n",
      "     und analyze -db data\\temp_repositories\\2.3.10\\2.3.10.und -quiet\n",
      "Running command : \n",
      "     und create -db data\\temp_repositories\\4.0.1\\4.0.1.und -languages Java c++\n",
      "\n",
      "Analyzing commit 3af4517eb8cfd9407ad34ed78a0b48b57dfaa264\n",
      "Running command : \n",
      "     und add C:\\Users\\moshi\\Documents\\projects\\Informatique\\ETS\\MGL869\\MGL869-Lab-Hive\\data\\temp_repositories\\4.0.1 -db data\\temp_repositories\\4.0.1\\4.0.1.und\n",
      "Files added: 8076\n",
      "\n",
      "Running command : \n",
      "     und analyze -db data\\temp_repositories\\4.0.1\\4.0.1.und -quiet\n"
     ]
    }
   ],
   "source": [
    "metrics(filtered_versions)"
   ]
  }
 ],
 "metadata": {
  "kernelspec": {
   "display_name": "Python 3 (ipykernel)",
   "language": "python",
   "name": "python3"
  },
  "language_info": {
   "codemirror_mode": {
    "name": "ipython",
    "version": 3
   },
   "file_extension": ".py",
   "mimetype": "text/x-python",
   "name": "python",
   "nbconvert_exporter": "python",
   "pygments_lexer": "ipython3",
   "version": "3.11.6"
  }
 },
 "nbformat": 4,
 "nbformat_minor": 5
}
