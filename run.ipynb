{
 "cells": [
  {
   "cell_type": "markdown",
   "id": "9aa166c8f436bbb8",
   "metadata": {},
   "source": [
    "# MGL869 - Lab\n",
    "\n",
    "*MGL869 ETS Montreal - Production engineering*\n",
    "\n",
    "## Abstract\n",
    "\n",
    "## Authors\n",
    "- **Léo FORNOFF**\n",
    "- **William PHAN**\n",
    "- **Yannis OUAKRIM**"
   ]
  },
  {
   "cell_type": "markdown",
   "id": "cc574ebf57602201",
   "metadata": {},
   "source": [
    "---\n",
    "\n",
    "## Part 1 : Data collection"
   ]
  },
  {
   "cell_type": "code",
   "execution_count": 1,
   "id": "b5caf94fc63fdaf4",
   "metadata": {
    "ExecuteTime": {
     "end_time": "2024-12-04T21:03:54.655984Z",
     "start_time": "2024-12-04T21:03:53.726518Z"
    }
   },
   "outputs": [],
   "source": [
    "from Jira import jira_download\n",
    "from pandas import Index\n",
    "from numpy import ndarray"
   ]
  },
  {
   "cell_type": "markdown",
   "id": "af4622a84f52ca68",
   "metadata": {},
   "source": [
    "\n",
    "### 1.1 - Download Jira data\n",
    "We download data if they are not already present in the data folder.\n",
    "\n",
    "Return the dataframe of the data.\n",
    "\n",
    "Query filter can be defined in config.ini"
   ]
  },
  {
   "cell_type": "code",
   "execution_count": 2,
   "id": "d4971d821b405286",
   "metadata": {
    "ExecuteTime": {
     "end_time": "2024-12-04T21:03:55.078014Z",
     "start_time": "2024-12-04T21:03:54.662829Z"
    }
   },
   "outputs": [
    {
     "name": "stdout",
     "output_type": "stream",
     "text": [
      "Data already downloaded\n",
      "Filter = 'project=HIVE AND issuetype=Bug AND status in (Resolved, Closed) AND affectedVersion>= 2.0.0'\n"
     ]
    }
   ],
   "source": [
    "jira_dataframe = jira_download()"
   ]
  },
  {
   "cell_type": "markdown",
   "id": "f8f051f67cbe342b",
   "metadata": {},
   "source": [
    "### 1.2 - Clean Jira data using pandas\n",
    "Previously, we downloaded all the data from Jira. Now, we will clean the data using pandas.\n",
    "We will keep only some columns and combine some columns."
   ]
  },
  {
   "cell_type": "code",
   "execution_count": 3,
   "id": "b6c04fde21e36891",
   "metadata": {
    "ExecuteTime": {
     "end_time": "2024-12-04T21:03:55.354010Z",
     "start_time": "2024-12-04T21:03:55.349854Z"
    }
   },
   "outputs": [],
   "source": [
    "keep: [str] = ['Issue key', 'Status', 'Resolution', 'Created', 'Fix Versions Combined', 'Affects Versions Combined']"
   ]
  },
  {
   "cell_type": "code",
   "execution_count": 4,
   "id": "2d3d14c6e651890b",
   "metadata": {
    "ExecuteTime": {
     "end_time": "2024-12-04T21:03:55.550321Z",
     "start_time": "2024-12-04T21:03:55.380191Z"
    }
   },
   "outputs": [],
   "source": [
    "affects_version_columns: [str] = [col for col in jira_dataframe.columns if col.startswith('Affects Version/s')]\n",
    "jira_dataframe['Affects Versions Combined'] = jira_dataframe[affects_version_columns].apply(\n",
    "    lambda x: ', '.join(x.dropna().astype(str)), axis=1\n",
    ")"
   ]
  },
  {
   "cell_type": "code",
   "execution_count": 5,
   "id": "1571fc3d63fa3d49",
   "metadata": {
    "ExecuteTime": {
     "end_time": "2024-12-04T21:03:55.747890Z",
     "start_time": "2024-12-04T21:03:55.561370Z"
    }
   },
   "outputs": [],
   "source": [
    "# Combine the versions into a single column\n",
    "fix_version_columns: [str] = [col for col in jira_dataframe.columns if col.startswith('Fix Version/s')]\n",
    "\n",
    "jira_dataframe['Fix Versions Combined'] = jira_dataframe[fix_version_columns].apply(\n",
    "    lambda x: ', '.join(x.dropna().astype(str)), axis=1\n",
    ")\n",
    "jira_dataframe = jira_dataframe.loc[:, keep]"
   ]
  },
  {
   "cell_type": "code",
   "execution_count": 6,
   "id": "7229ab85b247aa84",
   "metadata": {
    "ExecuteTime": {
     "end_time": "2024-12-04T21:03:55.769998Z",
     "start_time": "2024-12-04T21:03:55.764235Z"
    }
   },
   "outputs": [],
   "source": [
    "# Identify columns whose names contain the string 'Issue key'\n",
    "issue_key_columns: Index = jira_dataframe.columns[jira_dataframe.columns.str.contains('Issue key')]\n",
    "# Extract the values from these columns as a NumPy array\n",
    "issue_key_values: ndarray = jira_dataframe[issue_key_columns].values\n",
    "# Flatten the array to create a one-dimensional list of all 'Issue key' values\n",
    "flattened_issue_keys: ndarray = issue_key_values.flatten()\n",
    "# Convert the list into a set to remove duplicates\n",
    "ids: set = set(flattened_issue_keys)"
   ]
  },
  {
   "cell_type": "markdown",
   "id": "c56c59729f4f2bd8",
   "metadata": {},
   "source": [
    "---\n",
    "\n",
    "\n",
    "## Part 2 : Repository analysis\n"
   ]
  },
  {
   "cell_type": "code",
   "execution_count": 7,
   "id": "af5c65ce22975fa2",
   "metadata": {
    "ExecuteTime": {
     "end_time": "2024-12-04T21:03:55.957104Z",
     "start_time": "2024-12-04T21:03:55.796508Z"
    }
   },
   "outputs": [],
   "source": [
    "from Hive import git_download, commit_analysis, update_commit_dataframe\n",
    "from git import Repo, Tag\n",
    "from pandas import DataFrame\n",
    "from configparser import ConfigParser\n",
    "from re import compile\n",
    "from packaging import version"
   ]
  },
  {
   "cell_type": "markdown",
   "id": "2c7e1094fe45f12b",
   "metadata": {},
   "source": [
    "### 2.1 - Clone repository"
   ]
  },
  {
   "cell_type": "code",
   "execution_count": 8,
   "id": "da70cec527312bb6",
   "metadata": {
    "ExecuteTime": {
     "end_time": "2024-12-04T21:03:56.539421Z",
     "start_time": "2024-12-04T21:03:55.963867Z"
    }
   },
   "outputs": [
    {
     "name": "stdout",
     "output_type": "stream",
     "text": [
      "data\\hive_data\\hiveRepo False\n",
      "Pulling the repository: https://github.com/apache/hive.git\n"
     ]
    }
   ],
   "source": [
    "repo: Repo = git_download()"
   ]
  },
  {
   "cell_type": "code",
   "execution_count": 9,
   "id": "440e0445aebd0288",
   "metadata": {
    "ExecuteTime": {
     "end_time": "2024-12-04T21:04:32.244013Z",
     "start_time": "2024-12-04T21:03:56.573827Z"
    }
   },
   "outputs": [
    {
     "name": "stdout",
     "output_type": "stream",
     "text": [
      "20524 couples found.\n"
     ]
    }
   ],
   "source": [
    "all_couples = commit_analysis(ids)"
   ]
  },
  {
   "cell_type": "markdown",
   "id": "bc716ced26d7531a",
   "metadata": {},
   "source": [
    "### 2.2 - Filter data"
   ]
  },
  {
   "cell_type": "code",
   "execution_count": 10,
   "id": "6bac11954b2066d9",
   "metadata": {
    "ExecuteTime": {
     "end_time": "2024-12-04T21:04:32.287020Z",
     "start_time": "2024-12-04T21:04:32.272246Z"
    }
   },
   "outputs": [],
   "source": [
    "commit_dataframe: DataFrame = DataFrame(all_couples, columns=[\"Issue key\", \"File\", \"Commit\"])"
   ]
  },
  {
   "cell_type": "code",
   "execution_count": 11,
   "id": "90c98946d2120458",
   "metadata": {
    "ExecuteTime": {
     "end_time": "2024-12-04T21:04:32.365205Z",
     "start_time": "2024-12-04T21:04:32.348616Z"
    }
   },
   "outputs": [],
   "source": [
    "# Languages without whitespaces\n",
    "config: ConfigParser = ConfigParser()\n",
    "config.read(\"config.ini\")\n",
    "languages: [str] = config[\"GENERAL\"][\"Languages\"].split(\",\")\n",
    "languages: [str] = [lang.strip() for lang in languages]\n",
    "commit_dataframe: DataFrame = commit_dataframe[commit_dataframe['File'].str.endswith(tuple(languages))]"
   ]
  },
  {
   "cell_type": "code",
   "execution_count": 12,
   "id": "3c9ce9d7-7636-45b4-826a-f55535ef28a3",
   "metadata": {
    "ExecuteTime": {
     "end_time": "2024-12-04T21:04:32.416370Z",
     "start_time": "2024-12-04T21:04:32.381761Z"
    }
   },
   "outputs": [
    {
     "data": {
      "text/html": [
       "<div>\n",
       "<style scoped>\n",
       "    .dataframe tbody tr th:only-of-type {\n",
       "        vertical-align: middle;\n",
       "    }\n",
       "\n",
       "    .dataframe tbody tr th {\n",
       "        vertical-align: top;\n",
       "    }\n",
       "\n",
       "    .dataframe thead th {\n",
       "        text-align: right;\n",
       "    }\n",
       "</style>\n",
       "<table border=\"1\" class=\"dataframe\">\n",
       "  <thead>\n",
       "    <tr style=\"text-align: right;\">\n",
       "      <th></th>\n",
       "      <th>Issue key</th>\n",
       "      <th>File</th>\n",
       "      <th>Version Affected</th>\n",
       "    </tr>\n",
       "  </thead>\n",
       "  <tbody>\n",
       "    <tr>\n",
       "      <th>0</th>\n",
       "      <td>HIVE-21614</td>\n",
       "      <td>ql/src/test/org/apache/hadoop/hive/metastore/T...</td>\n",
       "      <td>2.3.4, 3.0.0</td>\n",
       "    </tr>\n",
       "    <tr>\n",
       "      <th>1</th>\n",
       "      <td>HIVE-21614</td>\n",
       "      <td>standalone-metastore/metastore-server/src/main...</td>\n",
       "      <td>2.3.4, 3.0.0</td>\n",
       "    </tr>\n",
       "    <tr>\n",
       "      <th>2</th>\n",
       "      <td>HIVE-21614</td>\n",
       "      <td>standalone-metastore/metastore-server/src/main...</td>\n",
       "      <td>2.3.4, 3.0.0</td>\n",
       "    </tr>\n",
       "    <tr>\n",
       "      <th>3</th>\n",
       "      <td>HIVE-28366</td>\n",
       "      <td>iceberg/iceberg-handler/src/main/java/org/apac...</td>\n",
       "      <td>4.0.0</td>\n",
       "    </tr>\n",
       "    <tr>\n",
       "      <th>4</th>\n",
       "      <td>HIVE-28366</td>\n",
       "      <td>iceberg/iceberg-handler/src/main/java/org/apac...</td>\n",
       "      <td>4.0.0</td>\n",
       "    </tr>\n",
       "    <tr>\n",
       "      <th>...</th>\n",
       "      <td>...</td>\n",
       "      <td>...</td>\n",
       "      <td>...</td>\n",
       "    </tr>\n",
       "    <tr>\n",
       "      <th>10268</th>\n",
       "      <td>HIVE-14013</td>\n",
       "      <td>common/src/java/org/apache/hive/common/util/Hi...</td>\n",
       "      <td>2.2.0</td>\n",
       "    </tr>\n",
       "    <tr>\n",
       "      <th>10269</th>\n",
       "      <td>HIVE-14013</td>\n",
       "      <td>ql/src/java/org/apache/hadoop/hive/ql/exec/DDL...</td>\n",
       "      <td>2.2.0</td>\n",
       "    </tr>\n",
       "    <tr>\n",
       "      <th>10270</th>\n",
       "      <td>HIVE-14013</td>\n",
       "      <td>ql/src/java/org/apache/hadoop/hive/ql/metadata...</td>\n",
       "      <td>2.2.0</td>\n",
       "    </tr>\n",
       "    <tr>\n",
       "      <th>10271</th>\n",
       "      <td>HIVE-14073</td>\n",
       "      <td>common/src/java/org/apache/hadoop/hive/conf/Hi...</td>\n",
       "      <td>2.1.0</td>\n",
       "    </tr>\n",
       "    <tr>\n",
       "      <th>10272</th>\n",
       "      <td>HIVE-14073</td>\n",
       "      <td>ql/src/test/org/apache/hadoop/hive/ql/security...</td>\n",
       "      <td>2.1.0</td>\n",
       "    </tr>\n",
       "  </tbody>\n",
       "</table>\n",
       "<p>10273 rows × 3 columns</p>\n",
       "</div>"
      ],
      "text/plain": [
       "        Issue key                                               File  \\\n",
       "0      HIVE-21614  ql/src/test/org/apache/hadoop/hive/metastore/T...   \n",
       "1      HIVE-21614  standalone-metastore/metastore-server/src/main...   \n",
       "2      HIVE-21614  standalone-metastore/metastore-server/src/main...   \n",
       "3      HIVE-28366  iceberg/iceberg-handler/src/main/java/org/apac...   \n",
       "4      HIVE-28366  iceberg/iceberg-handler/src/main/java/org/apac...   \n",
       "...           ...                                                ...   \n",
       "10268  HIVE-14013  common/src/java/org/apache/hive/common/util/Hi...   \n",
       "10269  HIVE-14013  ql/src/java/org/apache/hadoop/hive/ql/exec/DDL...   \n",
       "10270  HIVE-14013  ql/src/java/org/apache/hadoop/hive/ql/metadata...   \n",
       "10271  HIVE-14073  common/src/java/org/apache/hadoop/hive/conf/Hi...   \n",
       "10272  HIVE-14073  ql/src/test/org/apache/hadoop/hive/ql/security...   \n",
       "\n",
       "      Version Affected  \n",
       "0         2.3.4, 3.0.0  \n",
       "1         2.3.4, 3.0.0  \n",
       "2         2.3.4, 3.0.0  \n",
       "3                4.0.0  \n",
       "4                4.0.0  \n",
       "...                ...  \n",
       "10268            2.2.0  \n",
       "10269            2.2.0  \n",
       "10270            2.2.0  \n",
       "10271            2.1.0  \n",
       "10272            2.1.0  \n",
       "\n",
       "[10273 rows x 3 columns]"
      ]
     },
     "execution_count": 12,
     "metadata": {},
     "output_type": "execute_result"
    }
   ],
   "source": [
    "couples = update_commit_dataframe(commit_dataframe, jira_dataframe)\n",
    "couples"
   ]
  },
  {
   "cell_type": "markdown",
   "id": "f496352e0c7a43f5",
   "metadata": {},
   "source": [
    "### 2.3 - Extract filter versions from git"
   ]
  },
  {
   "cell_type": "code",
   "execution_count": 13,
   "id": "ab6fbf64ca7a8f6f",
   "metadata": {
    "ExecuteTime": {
     "end_time": "2024-12-04T21:04:32.624057Z",
     "start_time": "2024-12-04T21:04:32.475091Z"
    }
   },
   "outputs": [],
   "source": [
    "releases_regex: [str] = config[\"GIT\"][\"ReleasesRegex\"].split(\",\")\n",
    "tags: Tag = repo.tags\n",
    "versions: dict = {tag.name: tag.commit for tag in tags}\n",
    "releases_regex: [str] = [regex.strip() for regex in releases_regex]\n",
    "releases_regex = [compile(regex) for regex in releases_regex]"
   ]
  },
  {
   "cell_type": "code",
   "execution_count": 14,
   "id": "418d3b719f004c46",
   "metadata": {
    "ExecuteTime": {
     "end_time": "2024-12-04T21:04:32.723568Z",
     "start_time": "2024-12-04T21:04:32.710487Z"
    }
   },
   "outputs": [
    {
     "data": {
      "text/plain": [
       "({'4.0.1': <git.Commit \"3af4517eb8cfd9407ad34ed78a0b48b57dfaa264\">,\n",
       "  '2.3.10': <git.Commit \"5160d3af392248255f68e41e1e0557eae4d95273\">,\n",
       "  '4.0.0': <git.Commit \"183f8cb41d3dbed961ffd27999876468ff06690c\">,\n",
       "  '3.1.3': <git.Commit \"4df4d75bf1e16fe0af75aad0b4179c34c07fc975\">,\n",
       "  '2.3.9': <git.Commit \"92dd0159f440ca7863be3232f3a683a510a62b9d\">,\n",
       "  '2.3.8': <git.Commit \"f1e87137034e4ecbe39a859d4ef44319800016d7\">,\n",
       "  '2.3.7': <git.Commit \"cb213d88304034393d68cc31a95be24f5aac62b6\">,\n",
       "  '3.1.2': <git.Commit \"8190d2be7b7165effa62bd21b7d60ef81fb0e4af\">,\n",
       "  '2.3.6': <git.Commit \"2c2fdd524e8783f6e1f3ef15281cc2d5ed08728f\">,\n",
       "  '2.3.5': <git.Commit \"76595628ae13b95162e77bba365fe4d2c60b3f29\">,\n",
       "  '2.3.4': <git.Commit \"56acdd2120b9ce6790185c679223b8b5e884aaf2\">,\n",
       "  '3.1.1': <git.Commit \"f4e0529634b6231a0072295da48af466cf2f10b7\">,\n",
       "  '3.1.0': <git.Commit \"bcc7df95824831a8d2f1524e4048dfc23ab98c19\">,\n",
       "  '3.0.0': <git.Commit \"ce61711a5fa54ab34fc74d86d521ecaeea6b072a\">,\n",
       "  '2.3.3': <git.Commit \"3f7dde31aed44b5440563d3f9d8a8887beccf0be\">,\n",
       "  '2.3.2': <git.Commit \"857a9fd8ad725a53bd95c1b2d6612f9b1155f44d\">,\n",
       "  '2.3.1': <git.Commit \"7590572d9265e15286628013268b2ce785c6aa08\">,\n",
       "  '2.2.0': <git.Commit \"da840b0f8fa99cab9f004810cd22abc207493cae\">,\n",
       "  '2.3.0': <git.Commit \"6f4c35c9e904d226451c465effdc5bfd31d395a0\">,\n",
       "  '2.1.1': <git.Commit \"1af77bbf8356e86cabbed92cfa8cc2e1470a1d5c\">,\n",
       "  '2.1.0': <git.Commit \"9265bc24d75ac945bde9ce1a0999fddd8f2aae29\">,\n",
       "  '2.0.1': <git.Commit \"e3cfeebcefe9a19c5055afdcbb00646908340694\">,\n",
       "  '2.0.0': <git.Commit \"7f9f1fcb8697fb33f0edc2c391930a3728d247d7\">},\n",
       " 23)"
      ]
     },
     "execution_count": 14,
     "metadata": {},
     "output_type": "execute_result"
    }
   ],
   "source": [
    "filtered_versions: dict = {}\n",
    "for version_str in versions:\n",
    "    if any(regex.match(version_str) for regex in releases_regex):\n",
    "        version_numbers = version_str.split(\"-\")[1]\n",
    "        if version.parse(version_numbers) >= version.parse(\"2.0\"):\n",
    "            filtered_versions[version_numbers] = versions[version_str]\n",
    "\n",
    "filtered_versions = dict(sorted(\n",
    "    filtered_versions.items(),\n",
    "    key=lambda item: item[1].committed_datetime,\n",
    "    reverse=True\n",
    "))\n",
    "\n",
    "filtered_versions, len(filtered_versions)"
   ]
  },
  {
   "cell_type": "markdown",
   "id": "2bda8a7e729d746e",
   "metadata": {},
   "source": [
    "## Part 3. - Understand analysis"
   ]
  },
  {
   "cell_type": "code",
   "execution_count": 15,
   "id": "341333382b3f4712",
   "metadata": {
    "ExecuteTime": {
     "end_time": "2024-12-04T21:04:32.795330Z",
     "start_time": "2024-12-04T21:04:32.779141Z"
    }
   },
   "outputs": [],
   "source": [
    "from Understand.commands import und_create_command, und_purge_command\n",
    "from Understand.metrics import metrics\n",
    "from Understand.label import label_all_metrics\n",
    "from Understand.enrich import enrich_metrics\n",
    "from Understand.update import merge_all_metrics\n",
    "from os import path"
   ]
  },
  {
   "cell_type": "markdown",
   "id": "aa8504cac8b12909",
   "metadata": {},
   "source": [
    "### 3.1 - Create the Understand project\n"
   ]
  },
  {
   "cell_type": "code",
   "execution_count": 16,
   "id": "e897f593172bee81",
   "metadata": {
    "ExecuteTime": {
     "end_time": "2024-12-04T21:04:32.852510Z",
     "start_time": "2024-12-04T21:04:32.847158Z"
    }
   },
   "outputs": [],
   "source": [
    "hive_git_directory: str = config[\"GIT\"][\"HiveGitDirectory\"]\n",
    "data_directory: str = config[\"GENERAL\"][\"DataDirectory\"]\n",
    "understand_project_name: str = config[\"UNDERSTAND\"][\"UnderstandProjectName\"]\n",
    "\n",
    "understand_project_path: str = path.join(data_directory, hive_git_directory, understand_project_name)\n",
    "\n",
    "if not path.exists(understand_project_path):\n",
    "    und_create_command()"
   ]
  },
  {
   "cell_type": "code",
   "execution_count": 17,
   "id": "90fadd76a26bddbb",
   "metadata": {
    "ExecuteTime": {
     "end_time": "2024-12-04T21:04:33.091168Z",
     "start_time": "2024-12-04T21:04:32.862310Z"
    }
   },
   "outputs": [
    {
     "name": "stdout",
     "output_type": "stream",
     "text": [
      "Running command : \n",
      "     C:\\Program Files\\SciTools\\bin\\pc-win64\\und.exe purge -db data\\hive_data\\hive.und\n",
      "Database purged.\n",
      "\n"
     ]
    }
   ],
   "source": [
    "und_purge_command()"
   ]
  },
  {
   "cell_type": "markdown",
   "id": "b6e1f947-5bde-4984-8adc-86b859a1ad59",
   "metadata": {},
   "source": [
    "### 3.2 - Metrics extraction\n"
   ]
  },
  {
   "cell_type": "code",
   "execution_count": 18,
   "id": "41dab79156306ac6",
   "metadata": {
    "ExecuteTime": {
     "end_time": "2024-12-04T21:04:33.119770Z",
     "start_time": "2024-12-04T21:04:33.115079Z"
    }
   },
   "outputs": [
    {
     "name": "stdout",
     "output_type": "stream",
     "text": [
      "Metrics analysis is skipped as per configuration.\n"
     ]
    }
   ],
   "source": [
    "metrics(filtered_versions)"
   ]
  },
  {
   "cell_type": "markdown",
   "id": "a2aa23e7-801e-469e-a10d-9bea94b91aff",
   "metadata": {},
   "source": [
    "### 3.3 - Labeling\n"
   ]
  },
  {
   "cell_type": "code",
   "execution_count": 19,
   "id": "b78f4b34-6a24-4a64-b04a-e20bb44a1473",
   "metadata": {
    "ExecuteTime": {
     "end_time": "2024-12-04T21:05:17.672576Z",
     "start_time": "2024-12-04T21:04:33.252084Z"
    }
   },
   "outputs": [
    {
     "name": "stdout",
     "output_type": "stream",
     "text": [
      "Labelization process is skipped as per configuration.\n"
     ]
    }
   ],
   "source": [
    "label_all_metrics(couples)"
   ]
  },
  {
   "cell_type": "code",
   "execution_count": 20,
   "id": "58378aec2b68434e",
   "metadata": {
    "ExecuteTime": {
     "end_time": "2024-12-04T21:06:08.132985Z",
     "start_time": "2024-12-04T21:05:17.696521Z"
    }
   },
   "outputs": [
    {
     "name": "stdout",
     "output_type": "stream",
     "text": [
      "Enrichment process is skipped as per configuration.\n"
     ]
    }
   ],
   "source": [
    "enrich_metrics(couples)"
   ]
  },
  {
   "cell_type": "code",
   "execution_count": 21,
   "id": "7db9b08e86a884f1",
   "metadata": {
    "ExecuteTime": {
     "end_time": "2024-12-04T21:06:13.313179Z",
     "start_time": "2024-12-04T21:06:08.138773Z"
    }
   },
   "outputs": [
    {
     "name": "stdout",
     "output_type": "stream",
     "text": [
      "Merging has already been done. Skipping...\n"
     ]
    }
   ],
   "source": [
    "v = [\n",
    "    \"2.0.0\", \"2.0.1\", \"2.1.0\", \"2.1.1\", \"2.2.0\", \"2.3.0\", \"2.3.1\", \"2.3.2\",\n",
    "    \"2.3.3\", \"2.3.4\", \"2.3.5\", \"2.3.6\", \"2.3.7\", \"2.3.8\", \"2.3.9\", \"2.3.10\",\n",
    "    \"3.0.0\", \"3.1.0\", \"3.1.1\", \"3.1.2\", \"3.1.3\", \"4.0.0\", \"4.0.1\"\n",
    "]\n",
    "merge_all_metrics(v)"
   ]
  },
  {
   "cell_type": "markdown",
   "id": "5d0e5541-1840-4645-aa44-2dbfa37bb167",
   "metadata": {},
   "source": [
    "### 3.4 - New metrics"
   ]
  },
  {
   "cell_type": "code",
   "execution_count": 1,
   "id": "a3288962-559c-410d-b199-a4c53d3efbc2",
   "metadata": {},
   "outputs": [
    {
     "name": "stderr",
     "output_type": "stream",
     "text": [
      "2024-12-17 03:55:37,601 - INFO - Building version tree...\n",
      "2024-12-17 03:55:37,603 - INFO - Found 90 versions\n",
      "2024-12-17 03:55:41,487 - INFO - Filtered version tree size: 22\n",
      "2024-12-17 03:55:41,488 - INFO - Version tree built successfully\n",
      "2024-12-17 03:55:41,488 - INFO - Switching to version: rel/release-2.3.0\n",
      "2024-12-17 03:55:41,611 - INFO - Previous version: rel/release-2.1.0\n",
      "2024-12-17 03:55:41,678 - INFO - Total number of files to analyze: 10\n",
      "2024-12-17 03:55:41,678 - INFO - Starting metrics collection...\n"
     ]
    },
    {
     "name": "stdout",
     "output_type": "stream",
     "text": [
      "Processed 10/10 files (100.00%). Elapsed: 6.27s, Remaining: 0.00s."
     ]
    },
    {
     "name": "stderr",
     "output_type": "stream",
     "text": [
      "2024-12-17 03:55:47,953 - INFO - Metrics collection finished\n",
      "2024-12-17 03:55:47,953 - INFO - Exporting in CSV...\n",
      "2024-12-17 03:55:47,955 - INFO - CSV exported successfully\n"
     ]
    },
    {
     "name": "stdout",
     "output_type": "stream",
     "text": [
      "\n"
     ]
    }
   ],
   "source": [
    "from projet.yannis.script1 import newMetrics\n",
    "\n",
    "newMetrics()"
   ]
  },
  {
   "cell_type": "markdown",
   "id": "f0d9ad0db8b384bd",
   "metadata": {},
   "source": [
    "---\n",
    "\n",
    "---\n",
    "\n",
    "## 4 - Model"
   ]
  },
  {
   "cell_type": "code",
   "execution_count": null,
   "id": "20d9cb35967e9b16",
   "metadata": {
    "ExecuteTime": {
     "end_time": "2024-12-04T21:06:15.835127Z",
     "start_time": "2024-12-04T21:06:13.325583Z"
    }
   },
   "outputs": [],
   "source": [
    "import os\n",
    "import pandas as pd\n",
    "import numpy as np\n",
    "import matplotlib.pyplot as plt\n",
    "\n",
    "from sklearn.linear_model import LogisticRegression\n",
    "from sklearn.ensemble import RandomForestClassifier\n",
    "from configparser import ConfigParser\n",
    "\n",
    "from IA_models import load_data, KFold_XY, plot_SHAP, plot_AUC, \\\n",
    "    plot_recall, plot_precision, generate_model_report"
   ]
  },
  {
   "cell_type": "markdown",
   "id": "735f815b39513eb6",
   "metadata": {},
   "source": [
    "---\n",
    "\n",
    "### 4.1 - Pipeline Learning Model\n",
    "#### 4.1.1 - Load data"
   ]
  },
  {
   "cell_type": "code",
   "execution_count": null,
   "id": "1499cec07957d7c0",
   "metadata": {
    "ExecuteTime": {
     "end_time": "2024-12-04T21:06:32.351810Z",
     "start_time": "2024-12-04T21:06:32.008806Z"
    }
   },
   "outputs": [],
   "source": [
    "config: ConfigParser = ConfigParser()\n",
    "config.read(\"config.ini\")\n",
    "\n",
    "DATA_DIRECTORY: str = config[\"GENERAL\"][\"DataDirectory\"]\n",
    "LABELED_METRICS_OUTPUT_DIRECTORY: str = os.path.join(DATA_DIRECTORY, config[\"OUTPUT\"][\"LabeledMetricsOutputDirectory\"])\n",
    "N_SPLITS: int = int(config[\"IA\"][\"NSplits\"])\n",
    "SHUFFLE: bool = config[\"IA\"].getboolean(\"Shuffle\")\n",
    "RANDOM_STATE: int = int(config[\"IA\"][\"RandomState\"])\n",
    "N_ESTIMATORS: int = int(config[\"IA\"][\"nEstimators\"])\n",
    "\n",
    "data_dict: dict = load_data(LABELED_METRICS_OUTPUT_DIRECTORY)"
   ]
  },
  {
   "cell_type": "markdown",
   "id": "6194cbdc20dd73b1",
   "metadata": {},
   "source": [
    "#### 4.1.2 - Prepare data\n",
    "The commit version, its ID, and the file name are not considered in the model training. All columns containing a NaN are unusable and removed."
   ]
  },
  {
   "cell_type": "code",
   "execution_count": null,
   "id": "90f485209526e183",
   "metadata": {
    "ExecuteTime": {
     "end_time": "2024-12-04T21:06:32.441146Z",
     "start_time": "2024-12-04T21:06:32.399930Z"
    }
   },
   "outputs": [],
   "source": [
    "XY_dict: dict = {}\n",
    "for key in data_dict.keys():\n",
    "    data: pd.DataFrame = data_dict[key]\n",
    "    if 'Kind' in data.columns:\n",
    "        data = data.drop(columns=['Kind'])\n",
    "    X = data.drop(columns=['BugStatus', 'Name']).dropna(axis=1)  # independent variables\n",
    "    y = data['BugStatus']  # presence of a bug\n",
    "    XY_dict[key] = (X, y)\n",
    "XY_dict.keys()"
   ]
  },
  {
   "cell_type": "markdown",
   "id": "dfee05b88ca0a8cf",
   "metadata": {},
   "source": [
    "#### 4.1.3 Training and test data\n",
    "The entire dataset is divided into 10 equal parts on which the model is trained. Validation is performed [using cross-validation](https://medium.com/@tubelwj/five-methods-for-data-splitting-in-machine-learning-27baa50908ed) to more accurately determine the effectiveness of our model."
   ]
  },
  {
   "cell_type": "code",
   "execution_count": null,
   "id": "4006a01093b96757",
   "metadata": {
    "ExecuteTime": {
     "end_time": "2024-12-04T21:06:32.553689Z",
     "start_time": "2024-12-04T21:06:32.447154Z"
    }
   },
   "outputs": [],
   "source": [
    "XY_training_dict: dict = {}\n",
    "XY_testing_dict: dict = {}\n",
    "for key in XY_dict.keys():\n",
    "    X, y = XY_dict[key]\n",
    "    X_train, X_test, y_train, y_test = KFold_XY(N_SPLITS, SHUFFLE, RANDOM_STATE, X, y)\n",
    "    XY_training_dict[key] = (X_train, y_train)\n",
    "    XY_testing_dict[key] = (X_test, y_test)"
   ]
  },
  {
   "cell_type": "markdown",
   "id": "cb4ad7d610a666b2",
   "metadata": {},
   "source": [
    "### 4.1.4 Model Training\n",
    "\n",
    "Comparison between logistic regression and random forest."
   ]
  },
  {
   "cell_type": "code",
   "execution_count": null,
   "id": "8b6c0836480bbeb",
   "metadata": {
    "ExecuteTime": {
     "end_time": "2024-12-04T21:07:01.117888Z",
     "start_time": "2024-12-04T21:06:32.605295Z"
    }
   },
   "outputs": [],
   "source": [
    "logistic_regression_models: dict = {}\n",
    "random_forest_models: dict = {}\n",
    "\n",
    "for key in XY_training_dict:\n",
    "    X_train, y_train = XY_training_dict[key]\n",
    "    log_model = LogisticRegression(max_iter=20_000_000)\n",
    "    random_model = RandomForestClassifier(n_estimators=N_ESTIMATORS, random_state=RANDOM_STATE)\n",
    "\n",
    "    log_model.fit(X_train, y_train)\n",
    "    random_model.fit(X_train, y_train)\n",
    "\n",
    "    logistic_regression_models[key] = log_model\n",
    "    random_forest_models[key] = random_model"
   ]
  },
  {
   "cell_type": "markdown",
   "id": "d80f2b14cab76a2e",
   "metadata": {},
   "source": [
    "---\n",
    "\n",
    "### 4.2 - Evaluation of the model performance\n",
    "#### 4.2.1 Prediction"
   ]
  },
  {
   "cell_type": "code",
   "execution_count": null,
   "id": "f5156c1f798310b9",
   "metadata": {
    "ExecuteTime": {
     "end_time": "2024-12-04T21:07:01.235917Z",
     "start_time": "2024-12-04T21:07:01.166093Z"
    }
   },
   "outputs": [],
   "source": [
    "logistic_regression_predictions: dict = {}\n",
    "random_forest_prediction: dict = {}\n",
    "\n",
    "for key in XY_testing_dict:\n",
    "    X_test, y_test = XY_testing_dict[key]\n",
    "    random_forest_prediction[key] = random_forest_models[key].predict(X_test)\n",
    "    logistic_regression_predictions[key] = logistic_regression_models[key].predict(X_test)"
   ]
  },
  {
   "cell_type": "markdown",
   "id": "6e0b897fd98d7a26",
   "metadata": {},
   "source": [
    "#### 4.2.2 Evaluation\n",
    "\n",
    "The 2 models are compared by their AUC, precision, and recall. The **random forest** is a better model for determining the presence of bugs in a commit."
   ]
  },
  {
   "cell_type": "markdown",
   "id": "5ea3663b95faa359",
   "metadata": {},
   "source": [
    "##### AUC"
   ]
  },
  {
   "cell_type": "code",
   "execution_count": null,
   "id": "cb2ad75f6b5cb352",
   "metadata": {
    "ExecuteTime": {
     "end_time": "2024-12-04T21:07:01.469629Z",
     "start_time": "2024-12-04T21:07:01.285603Z"
    }
   },
   "outputs": [],
   "source": [
    "y_test: dict = {key: XY_testing_dict[key][1] for key in XY_testing_dict.keys()}\n",
    "y_pred_log: dict = {key: logistic_regression_predictions[key] for key in logistic_regression_predictions.keys()}\n",
    "y_pred_rf: dict = {key: random_forest_prediction[key] for key in random_forest_prediction.keys()}\n",
    "plot_AUC(y_test, y_pred_log, y_pred_rf)"
   ]
  },
  {
   "cell_type": "markdown",
   "id": "fe7114ce10866d31",
   "metadata": {},
   "source": [
    "##### recall"
   ]
  },
  {
   "cell_type": "code",
   "execution_count": null,
   "id": "d362d645b0314039",
   "metadata": {
    "ExecuteTime": {
     "end_time": "2024-12-04T21:07:01.722415Z",
     "start_time": "2024-12-04T21:07:01.523918Z"
    }
   },
   "outputs": [],
   "source": [
    "plot_recall(y_test, y_pred_log, y_pred_rf)"
   ]
  },
  {
   "cell_type": "markdown",
   "id": "81ad8bf0437fcfff",
   "metadata": {},
   "source": [
    "##### Precision"
   ]
  },
  {
   "cell_type": "code",
   "execution_count": null,
   "id": "8e6488c53fe70fe5",
   "metadata": {
    "ExecuteTime": {
     "end_time": "2024-12-04T21:07:01.982586Z",
     "start_time": "2024-12-04T21:07:01.777332Z"
    }
   },
   "outputs": [],
   "source": [
    "plot_precision(y_test, y_pred_log, y_pred_rf)"
   ]
  },
  {
   "cell_type": "markdown",
   "id": "76a81f387f49d9ef",
   "metadata": {},
   "source": [
    "##### Report"
   ]
  },
  {
   "cell_type": "code",
   "execution_count": null,
   "id": "e4d10ac5a8ce1e22",
   "metadata": {
    "ExecuteTime": {
     "end_time": "2024-12-04T21:07:02.173445Z",
     "start_time": "2024-12-04T21:07:02.035706Z"
    }
   },
   "outputs": [],
   "source": [
    "generate_model_report(y_test, y_pred_log, y_pred_rf)"
   ]
  },
  {
   "cell_type": "markdown",
   "id": "9d6f15b69acee02d",
   "metadata": {},
   "source": [
    "##### SHAP values"
   ]
  },
  {
   "cell_type": "code",
   "execution_count": null,
   "id": "48af0e509cdede2d",
   "metadata": {
    "ExecuteTime": {
     "end_time": "2024-12-04T21:07:04.037991Z",
     "start_time": "2024-12-04T21:07:02.251516Z"
    }
   },
   "outputs": [],
   "source": [
    "shap_values_versions = {}\n",
    "for key in logistic_regression_models:\n",
    "    shap_values = plot_SHAP(logistic_regression_models[key], XY_training_dict[key][0], XY_testing_dict[key][0], key)\n",
    "    shap_values_versions[key] = shap_values"
   ]
  },
  {
   "cell_type": "markdown",
   "id": "75bfbc71e0a89acb",
   "metadata": {},
   "source": [
    "### 4.3 - Actions to take\n",
    "#### 4.3.1 Reduce code complexity\n",
    "`CountLineCode` and `CountStmtExe` are important variables for bug prediction. Indeed, the larger the `CountLineCode` and `CountStmtExe`, the more likely the presence of a bug in the file.\n",
    "\n",
    "**Solution**: Adopt a modular architecture.\n",
    "\n",
    "**Example**: HiveConf.java contained 3249 lines of code and 676 statements in release-2.0.0. It could be broken down into several modules, even if these modules exist but have few lines of code (HiveConfUtil.java which contains 8 lines of code and 5 statements)."
   ]
  },
  {
   "cell_type": "code",
   "execution_count": null,
   "id": "8a192ba089bf1b99",
   "metadata": {
    "ExecuteTime": {
     "end_time": "2024-12-04T21:07:04.581176Z",
     "start_time": "2024-12-04T21:07:04.044194Z"
    }
   },
   "outputs": [],
   "source": [
    "versions: list = list(data_dict.keys())\n",
    "print(versions[0])\n",
    "data_2_0_0 = data_dict[versions[0]]\n",
    "\n",
    "plt.figure(figsize=(10, 6))\n",
    "colors = data_2_0_0['BugStatus'].map({0: 'blue', 1: 'red'})  # BugStatus=1 en rouge, 0 en bleu\n",
    "plt.scatter(data_2_0_0['CountLineCode'], data_2_0_0['CountStmtExe'], c=colors, alpha=0.8, edgecolors='k')\n",
    "\n",
    "plt.xscale('log')\n",
    "plt.yscale('log')\n",
    "\n",
    "plt.xlabel('CountLineCode (log scale)')\n",
    "plt.ylabel('CountStmtExe (log scale)')\n",
    "plt.title('Relation entre CountLineCode, CountStmtExe et BugStatus')\n",
    "plt.grid(True, which='both', linestyle='--', linewidth=0.5)\n",
    "\n",
    "plt.scatter([], [], c='red', label='BugStatus = 1', alpha=0.8, edgecolors='k')\n",
    "plt.scatter([], [], c='blue', label='BugStatus = 0', alpha=0.8, edgecolors='k')\n",
    "plt.legend()\n",
    "\n",
    "plt.show()"
   ]
  },
  {
   "cell_type": "markdown",
   "id": "acaf38c829059144",
   "metadata": {},
   "source": [
    "#### 4.3.2. Promote better code readability\n",
    "CountLines is an important variable. The larger the CountLines, the more likely the presence of a bug in the file.  Solution: Uniformly format the code (adhere to coding standards), add relevant and concise comments, simplify the code."
   ]
  },
  {
   "cell_type": "code",
   "execution_count": null,
   "id": "aa6f023b90c3c3d4",
   "metadata": {
    "ExecuteTime": {
     "end_time": "2024-12-04T21:07:05.003254Z",
     "start_time": "2024-12-04T21:07:04.650108Z"
    }
   },
   "outputs": [],
   "source": [
    "plt.figure(figsize=(10, 1))\n",
    "colors = data_2_0_0['BugStatus'].map({0: 'blue', 1: 'red'})  # BugStatus=1 en rouge, 0 en bleu\n",
    "plt.scatter(data_2_0_0['CountLine'], data_2_0_0['BugStatus'], c=colors, alpha=0.8, edgecolors='k')\n",
    "\n",
    "plt.xscale('log')\n",
    "plt.xlabel('CountLine')\n",
    "plt.ylabel('BugStatus')\n",
    "plt.title('Relation entre CountLine et BugStatus')\n",
    "plt.grid(True)\n",
    "plt.show()"
   ]
  },
  {
   "cell_type": "markdown",
   "id": "935a18f9bf685f38",
   "metadata": {},
   "source": [
    "#### 4.3.3. Eliminate unnecessary declarations\n",
    "CountStmtDecl indicates an excess of variables.  Solution: Remove unnecessary variables, methods, and classes, and reuse already declared variables, methods, and classes."
   ]
  },
  {
   "cell_type": "code",
   "execution_count": null,
   "id": "7d8e4e5addf234be",
   "metadata": {
    "ExecuteTime": {
     "end_time": "2024-12-04T21:07:05.283294Z",
     "start_time": "2024-12-04T21:07:05.071662Z"
    }
   },
   "outputs": [],
   "source": [
    "plt.figure(figsize=(10, 1))\n",
    "colors = data_2_0_0['BugStatus'].map({0: 'blue', 1: 'red'})  # BugStatus=1 en rouge, 0 en bleu\n",
    "plt.scatter(data_2_0_0['CountStmtDecl'], data_2_0_0['BugStatus'], c=colors, alpha=0.8, edgecolors='k')\n",
    "\n",
    "plt.xscale('log')\n",
    "plt.xlabel('CountStmtDecl')\n",
    "plt.ylabel('BugStatus')\n",
    "plt.title('Relation entre CountStmtDecl et BugStatus')\n",
    "plt.grid(True)\n",
    "plt.show()"
   ]
  },
  {
   "cell_type": "markdown",
   "id": "3b5a7af3b7098896",
   "metadata": {},
   "source": [
    "#### 4.3.4. Keep logs for each execution\n",
    "CountStmtExe is an important variable. This indicates that most bugs come from executable statements.  Solution: Adopt logging in all files containing executable statements.  Example: TSetIpAddressProcessor.java contains logging and has no bugs, whereas ASTBuilder.java does not have logging and has a bug."
   ]
  },
  {
   "cell_type": "markdown",
   "id": "b822c587255b86ca",
   "metadata": {},
   "source": [
    "#### 4.3.5. Develop and automate more tests\n",
    "Given the importance of `CountStmtExe`, this may require more unit tests.\n",
    "\n",
    "**Solution**: Improve test coverage by automating them for each commit."
   ]
  },
  {
   "cell_type": "markdown",
   "id": "935ef3e142ef1b81",
   "metadata": {},
   "source": [
    "## 5 - Evolution of the most important metrics by version"
   ]
  },
  {
   "cell_type": "code",
   "execution_count": null,
   "id": "334c6b4d2b59741c",
   "metadata": {
    "ExecuteTime": {
     "end_time": "2024-12-04T21:07:05.364376Z",
     "start_time": "2024-12-04T21:07:05.356719Z"
    }
   },
   "outputs": [],
   "source": [
    "best_metrics = set()\n",
    "metrics_values = {}\n",
    "for key in shap_values_versions.keys():\n",
    "    version_title = key[:3]\n",
    "    shap_values = shap_values_versions[key]\n",
    "    X_test = XY_testing_dict[key][0]\n",
    "    # Extraire les noms des features depuis X_test\n",
    "    feature_names = X_test.columns if hasattr(X_test, 'columns') else [f'Feature {i}' for i in range(X_test.shape[1])]\n",
    "    # Calculer l'importance moyenne absolue des SHAP values pour chaque feature\n",
    "    shap_mean_importance = np.abs(shap_values.values).mean(axis=0)\n",
    "    # Trouver les indices des deux features les plus importantes\n",
    "    top_2_indices = np.argsort(shap_mean_importance)[-3:][::-1]\n",
    "    # Extraire les noms et les valeurs des deux features les plus importantes\n",
    "    top_2_features = []\n",
    "    for i in top_2_indices:\n",
    "        top_2_features.append((feature_names[i], shap_mean_importance[i]))\n",
    "        best_metrics.add(feature_names[i])\n",
    "    metrics_values[version_title] = top_2_features\n",
    "print(best_metrics)\n",
    "\n",
    "#"
   ]
  },
  {
   "cell_type": "code",
   "execution_count": null,
   "id": "a7b98f808909762f",
   "metadata": {
    "ExecuteTime": {
     "end_time": "2024-12-04T21:07:05.587179Z",
     "start_time": "2024-12-04T21:07:05.434758Z"
    }
   },
   "outputs": [],
   "source": [
    "# Initialize a list to store the rows of the DataFrame\n",
    "rows = []\n",
    "\n",
    "for version, features in metrics_values.items():\n",
    "    row = {'version': version}\n",
    "    for metric_name, metric_value in features:\n",
    "        row[metric_name] = metric_value\n",
    "    rows.append(row)  # Ajouter la ligne à la liste\n",
    "\n",
    "# Convert list to DataFrame\n",
    "df_metrics = pd.DataFrame(rows)\n",
    "\n",
    "# Fill missing values with 0 (or NaN as needed)\n",
    "df_metrics = df_metrics.fillna(0)\n",
    "\n",
    "# Plot the graph\n",
    "plt.figure(figsize=(10, 6))\n",
    "for metric in best_metrics:\n",
    "    if metric in df_metrics:\n",
    "        plt.plot(\n",
    "            df_metrics['version'],\n",
    "            df_metrics[metric],\n",
    "            label=metric,\n",
    "            marker='o'\n",
    "        )\n",
    "\n",
    "# AAdd details to the graph\n",
    "plt.xlabel('Version')\n",
    "plt.ylabel('Importance moyenne (SHAP)')\n",
    "plt.title('Évolution des métriques les plus importantes par version')\n",
    "plt.legend(title='Metrics', bbox_to_anchor=(1.05, 1), loc='upper left')\n",
    "plt.xticks(rotation=45)\n",
    "plt.grid(True)\n",
    "plt.tight_layout()\n",
    "\n",
    "# Display the graph\n",
    "plt.show()"
   ]
  },
  {
   "cell_type": "code",
   "execution_count": null,
   "id": "744e0a62-7b4f-4db2-afb1-e6ecfa6646fe",
   "metadata": {},
   "outputs": [],
   "source": []
  }
 ],
 "metadata": {
  "kernelspec": {
   "display_name": "Python 3 (ipykernel)",
   "language": "python",
   "name": "python3"
  },
  "language_info": {
   "codemirror_mode": {
    "name": "ipython",
    "version": 3
   },
   "file_extension": ".py",
   "mimetype": "text/x-python",
   "name": "python",
   "nbconvert_exporter": "python",
   "pygments_lexer": "ipython3",
   "version": "3.10.7"
  }
 },
 "nbformat": 4,
 "nbformat_minor": 5
}
