{
 "cells": [
  {
   "metadata": {},
   "cell_type": "markdown",
   "source": "# Code to filter and extract data from CSV files and then search for HIVE-X keys in the git repository.",
   "id": "b314d060315a4043"
  },
  {
   "metadata": {},
   "cell_type": "markdown",
   "source": [
    "---\n",
    "## Data cleaning"
   ],
   "id": "7b51432057007d2a"
  },
  {
   "cell_type": "code",
   "id": "initial_id",
   "metadata": {
    "collapsed": true,
    "ExecuteTime": {
     "end_time": "2024-11-01T02:46:19.689402Z",
     "start_time": "2024-11-01T02:46:19.240593Z"
    }
   },
   "source": [
    "import pandas as pd\n",
    "import os\n",
    "import git\n",
    "import re\n",
    "from concurrent.futures import ThreadPoolExecutor, as_completed, ProcessPoolExecutor"
   ],
   "outputs": [],
   "execution_count": 1
  },
  {
   "cell_type": "code",
   "source": [
    "folder_path = 'CSV exported'\n",
    "# Lire tous les fichiers CSV du dossier\n",
    "csv_files = [os.path.join(folder_path, file) for file in os.listdir(folder_path) if file.endswith('.csv')]"
   ],
   "metadata": {
    "collapsed": false,
    "ExecuteTime": {
     "end_time": "2024-11-01T02:46:19.697553Z",
     "start_time": "2024-11-01T02:46:19.693043Z"
    }
   },
   "id": "457d628e40d96f19",
   "outputs": [],
   "execution_count": 2
  },
  {
   "cell_type": "code",
   "source": [
    "dataframes = [pd.read_csv(file, sep=\"^\") for file in csv_files]\n",
    "dataframes_filtered = []\n",
    "for df in dataframes:\n",
    "    fix_version_columns = [col for col in df.columns if col.startswith('Fix Version/s')]\n",
    "    affects_version_columns = [col for col in df.columns if col.startswith('Affects Version/s')]\n",
    "\n",
    "    df['Fix Versions Combined'] = df[fix_version_columns].apply(lambda x: ', '.join(x.dropna().astype(str)), axis=1)\n",
    "    df['Affects Versions Combined'] = df[affects_version_columns].apply(lambda x: ', '.join(x.dropna().astype(str)),\n",
    "                                                                        axis=1)\n",
    "\n",
    "    # Supprimer les colonnes originales\n",
    "    df = df.drop(fix_version_columns, axis=1)\n",
    "    df = df.drop(affects_version_columns, axis=1)\n",
    "\n",
    "    keep: list = ['Issue key', 'Status', 'Resolution', 'Created', 'Fix Versions Combined', 'Affects Versions Combined']\n",
    "    df = df.loc[:, keep]\n",
    "    print(len(df.columns))\n",
    "\n",
    "    dataframes_filtered.append(df)"
   ],
   "metadata": {
    "collapsed": false,
    "ExecuteTime": {
     "end_time": "2024-11-01T02:46:20.516434Z",
     "start_time": "2024-11-01T02:46:19.881701Z"
    }
   },
   "id": "4547de117cbbed",
   "outputs": [
    {
     "name": "stdout",
     "output_type": "stream",
     "text": [
      "6\n",
      "6\n"
     ]
    }
   ],
   "execution_count": 3
  },
  {
   "cell_type": "code",
   "source": [
    "df_merged = pd.concat(dataframes_filtered, ignore_index=True, sort=False)"
   ],
   "metadata": {
    "collapsed": false,
    "ExecuteTime": {
     "end_time": "2024-11-01T02:46:20.614723Z",
     "start_time": "2024-11-01T02:46:20.609776Z"
    }
   },
   "id": "6b987d3d55b2c34e",
   "outputs": [],
   "execution_count": 4
  },
  {
   "cell_type": "code",
   "source": "df_merged.to_csv('filtered_data.csv')",
   "metadata": {
    "collapsed": false,
    "ExecuteTime": {
     "end_time": "2024-11-01T02:46:20.669837Z",
     "start_time": "2024-11-01T02:46:20.660240Z"
    }
   },
   "id": "acb762f8d0c89125",
   "outputs": [],
   "execution_count": 5
  },
  {
   "metadata": {},
   "cell_type": "markdown",
   "source": [
    "---\n",
    "\n",
    "## Extract"
   ],
   "id": "e251852981aa0922"
  },
  {
   "metadata": {
    "ExecuteTime": {
     "end_time": "2024-11-01T02:46:20.705519Z",
     "start_time": "2024-11-01T02:46:20.700439Z"
    }
   },
   "cell_type": "code",
   "source": [
    "# Create a set of all the ids\n",
    "ids = set(df_merged[df_merged.columns[df_merged.columns.str.contains('Issue key')]].values.flatten())"
   ],
   "id": "9b74ac9d32cb1241",
   "outputs": [],
   "execution_count": 6
  },
  {
   "metadata": {},
   "cell_type": "markdown",
   "source": [
    "---\n",
    "GIT RESEARCH\n",
    "---\n",
    "\n"
   ],
   "id": "ca29de2013182e6e"
  },
  {
   "metadata": {
    "ExecuteTime": {
     "end_time": "2024-11-01T02:46:20.744547Z",
     "start_time": "2024-11-01T02:46:20.737149Z"
    }
   },
   "cell_type": "code",
   "source": [
    "\n",
    "# Current project path\n",
    "current_project_path = os.getcwd()\n",
    "# Parent directory\n",
    "parent_directory = os.path.dirname(current_project_path)\n",
    "# Path to the repository\n",
    "repo_path = os.path.join(parent_directory, 'hive')\n",
    "# Repository URL\n",
    "repo_url = 'git@github.com:apache/hive.git'"
   ],
   "id": "56f937962241967b",
   "outputs": [],
   "execution_count": 7
  },
  {
   "metadata": {
    "ExecuteTime": {
     "end_time": "2024-11-01T02:48:16.807867Z",
     "start_time": "2024-11-01T02:46:20.761483Z"
    }
   },
   "cell_type": "code",
   "source": [
    "# Check if repo exists\n",
    "if not os.path.exists(repo_path) or not os.path.exists(os.path.join(repo_path, '.git')):\n",
    "    repo = git.Repo.clone_from(repo_url, repo_path)\n",
    "else:\n",
    "    repo = git.Repo(repo_path)"
   ],
   "id": "ac4745f4e75f046c",
   "outputs": [],
   "execution_count": 8
  },
  {
   "metadata": {
    "ExecuteTime": {
     "end_time": "2024-11-01T02:48:16.828030Z",
     "start_time": "2024-11-01T02:48:16.823098Z"
    }
   },
   "cell_type": "code",
   "source": "pattern = re.compile(r'HIVE-(\\d{3,5})')",
   "id": "4e61a0d8385f77a4",
   "outputs": [],
   "execution_count": 9
  },
  {
   "metadata": {
    "ExecuteTime": {
     "end_time": "2024-11-01T02:48:16.877894Z",
     "start_time": "2024-11-01T02:48:16.868974Z"
    }
   },
   "cell_type": "code",
   "source": [
    "# Function to process a batch of commits\n",
    "def process_commits(commits):\n",
    "    print(f'Processing {len(commits)} commits')\n",
    "    local_repo = git.Repo(repo_path)\n",
    "    couples = []\n",
    "    for key in commits:\n",
    "        commit_id = key\n",
    "        for match in commits[key]:\n",
    "            hive_key = f'HIVE-{match}'\n",
    "            if hive_key in ids:\n",
    "                for file in local_repo.commit(commit_id).stats.files:\n",
    "                    couples.append((hive_key, file))\n",
    "                \n",
    "    print(f'Finished processing {len(commits)} commits')\n",
    "    return couples"
   ],
   "id": "9c85f0b10b601b11",
   "outputs": [],
   "execution_count": 10
  },
  {
   "metadata": {
    "ExecuteTime": {
     "end_time": "2024-11-01T02:48:17.989947Z",
     "start_time": "2024-11-01T02:48:16.892274Z"
    }
   },
   "cell_type": "code",
   "source": [
    "num_threads = os.cpu_count() # Get the number of threads of the CPU\n",
    "chunk_size = len(list(repo.iter_commits())) // num_threads\n",
    "\n",
    "# Get all commits and files\n",
    "all_commits = [{} for _ in range(num_threads)]\n",
    "\n",
    "for i, commit in enumerate(repo.iter_commits()):\n",
    "    matches = pattern.findall(commit.message)\n",
    "    if matches:\n",
    "        all_commits[i // chunk_size][commit.hexsha] = matches\n",
    "\n"
   ],
   "id": "a85859b643c3f4cc",
   "outputs": [],
   "execution_count": 11
  },
  {
   "metadata": {
    "ExecuteTime": {
     "end_time": "2024-11-01T02:48:35.315585Z",
     "start_time": "2024-11-01T02:48:18.004211Z"
    }
   },
   "cell_type": "code",
   "source": [
    "# Initialize the list to store all couples\n",
    "all_couples = []\n",
    "with ThreadPoolExecutor(max_workers=num_threads) as executor:\n",
    "    futures = [executor.submit(process_commits, chunk) for chunk in all_commits]\n",
    "    for future in as_completed(futures):\n",
    "        couples = future.result()\n",
    "        all_couples.extend(couples)"
   ],
   "id": "b8754fda64e4804a",
   "outputs": [
    {
     "name": "stdout",
     "output_type": "stream",
     "text": [
      "Processing 1078 commits\n",
      "Processing 1054 commits\n",
      "Processing 1050 commits\n",
      "Processing 1083 commits\n",
      "Processing 1084 commits\n",
      "Processing 1083 commits\n",
      "Processing 1078 commits\n",
      "Processing 1083 commits\n",
      "Processing 1070 commits\n",
      "Processing 1065 commits\n",
      "Processing 1005 commits\n",
      "Processing 1054 commits\n",
      "Processing 1046 commits\n",
      "Processing 1017 commits\n",
      "Processing 1058 commits\n",
      "Processing 995 commits\n",
      "Finished processing 1005 commits\n",
      "Finished processing 1046 commits\n",
      "Finished processing 1054 commits\n",
      "Finished processing 1017 commits\n",
      "Finished processing 1058 commits\n",
      "Finished processing 995 commits\n",
      "Finished processing 1050 commits\n",
      "Finished processing 1054 commits\n",
      "Finished processing 1078 commits\n",
      "Finished processing 1065 commits\n",
      "Finished processing 1083 commits\n",
      "Finished processing 1078 commits\n",
      "Finished processing 1083 commits\n",
      "Finished processing 1084 commits\n",
      "Finished processing 1083 commits\n",
      "Finished processing 1070 commits\n"
     ]
    }
   ],
   "execution_count": 12
  },
  {
   "metadata": {
    "ExecuteTime": {
     "end_time": "2024-11-01T02:48:35.367627Z",
     "start_time": "2024-11-01T02:48:35.331892Z"
    }
   },
   "cell_type": "code",
   "source": [
    "# Convert the list of tuples into a DataFrame\n",
    "df_couples = pd.DataFrame(all_couples, columns=['Issue Key', 'File'])\n",
    "# Save the DataFrame to a CSV file\n",
    "df_couples.to_csv('couples.csv', index=False)"
   ],
   "id": "d7625e17f335d71f",
   "outputs": [],
   "execution_count": 13
  },
  {
   "metadata": {
    "ExecuteTime": {
     "end_time": "2024-11-01T02:48:35.385652Z",
     "start_time": "2024-11-01T02:48:35.382724Z"
    }
   },
   "cell_type": "code",
   "source": "",
   "id": "ce6f6e430c90acae",
   "outputs": [],
   "execution_count": null
  }
 ],
 "metadata": {
  "kernelspec": {
   "display_name": "Python 3",
   "language": "python",
   "name": "python3"
  },
  "language_info": {
   "codemirror_mode": {
    "name": "ipython",
    "version": 2
   },
   "file_extension": ".py",
   "mimetype": "text/x-python",
   "name": "python",
   "nbconvert_exporter": "python",
   "pygments_lexer": "ipython2",
   "version": "2.7.6"
  }
 },
 "nbformat": 4,
 "nbformat_minor": 5
}
