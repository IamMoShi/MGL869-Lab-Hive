{
 "cells": [
  {
   "cell_type": "code",
   "id": "initial_id",
   "metadata": {
    "collapsed": true,
    "ExecuteTime": {
     "end_time": "2024-10-31T21:44:22.179277Z",
     "start_time": "2024-10-31T21:44:21.655356Z"
    }
   },
   "source": [
    "import pandas as pd\n",
    "import os\n",
    "import git\n",
    "from concurrent.futures import ThreadPoolExecutor\n",
    "from typing import List\n",
    "import asyncio\n",
    "import aiofiles\n",
    "import shutil"
   ],
   "outputs": [],
   "execution_count": 1
  },
  {
   "cell_type": "code",
   "source": [
    "folder_path = 'CSV exported'\n",
    "# Lire tous les fichiers CSV du dossier\n",
    "csv_files = [os.path.join(folder_path, file) for file in os.listdir(folder_path) if file.endswith('.csv')]"
   ],
   "metadata": {
    "collapsed": false,
    "ExecuteTime": {
     "end_time": "2024-10-31T21:44:22.186352Z",
     "start_time": "2024-10-31T21:44:22.182310Z"
    }
   },
   "id": "457d628e40d96f19",
   "outputs": [],
   "execution_count": 2
  },
  {
   "cell_type": "code",
   "source": [
    "dataframes = [pd.read_csv(file, sep=\"^\") for file in csv_files]\n",
    "dataframes_filtered = []\n",
    "for df in dataframes:\n",
    "    fix_version_columns = [col for col in df.columns if col.startswith('Fix Version/s')]\n",
    "    affects_version_columns = [col for col in df.columns if col.startswith('Affects Version/s')]\n",
    "\n",
    "    df['Fix Versions Combined'] = df[fix_version_columns].apply(lambda x: ', '.join(x.dropna().astype(str)), axis=1)\n",
    "    df['Affects Versions Combined'] = df[affects_version_columns].apply(lambda x: ', '.join(x.dropna().astype(str)),\n",
    "                                                                        axis=1)\n",
    "\n",
    "    # Supprimer les colonnes originales\n",
    "    df = df.drop(fix_version_columns, axis=1)\n",
    "    df = df.drop(affects_version_columns, axis=1)\n",
    "\n",
    "    keep: list = ['Issue key', 'Status', 'Resolution', 'Created', 'Fix Versions Combined', 'Affects Versions Combined']\n",
    "    df = df.loc[:, keep]\n",
    "    print(len(df.columns))\n",
    "\n",
    "    dataframes_filtered.append(df)"
   ],
   "metadata": {
    "collapsed": false,
    "ExecuteTime": {
     "end_time": "2024-10-31T21:44:22.998998Z",
     "start_time": "2024-10-31T21:44:22.358494Z"
    }
   },
   "id": "4547de117cbbed",
   "outputs": [
    {
     "name": "stdout",
     "output_type": "stream",
     "text": [
      "6\n",
      "6\n"
     ]
    }
   ],
   "execution_count": 3
  },
  {
   "cell_type": "code",
   "source": [
    "df_merged = pd.concat(dataframes_filtered, ignore_index=True, sort=False)"
   ],
   "metadata": {
    "collapsed": false,
    "ExecuteTime": {
     "end_time": "2024-10-31T21:44:23.033411Z",
     "start_time": "2024-10-31T21:44:23.029149Z"
    }
   },
   "id": "6b987d3d55b2c34e",
   "outputs": [],
   "execution_count": 4
  },
  {
   "cell_type": "code",
   "source": [
    "print(df_merged.info)"
   ],
   "metadata": {
    "collapsed": false,
    "ExecuteTime": {
     "end_time": "2024-10-31T21:44:23.046983Z",
     "start_time": "2024-10-31T21:44:23.041216Z"
    }
   },
   "id": "ef642e3b61d02731",
   "outputs": [
    {
     "name": "stdout",
     "output_type": "stream",
     "text": [
      "<bound method DataFrame.info of        Issue key    Status Resolution          Created Fix Versions Combined  \\\n",
      "0     HIVE-28515  Resolved      Fixed  10/Sep/24 06:55          4.0.1, 4.1.0   \n",
      "1     HIVE-28487  Resolved      Fixed  29/Aug/24 10:28          4.0.1, 4.1.0   \n",
      "2     HIVE-28451  Resolved      Fixed  19/Aug/24 13:12          4.0.1, 4.1.0   \n",
      "3     HIVE-28439  Resolved      Fixed  07/Aug/24 13:23          4.0.1, 4.1.0   \n",
      "4     HIVE-28360  Resolved      Fixed  04/Jul/24 09:50          4.0.1, 4.1.0   \n",
      "...          ...       ...        ...              ...                   ...   \n",
      "1851  HIVE-10021    Closed      Fixed  19/Mar/15 19:55          1.3.0, 2.0.0   \n",
      "1852   HIVE-9499    Closed      Fixed  28/Jan/15 16:45          2.0.1, 2.1.0   \n",
      "1853   HIVE-7239    Closed      Fixed  16/Jun/14 18:47                 2.2.0   \n",
      "1854   HIVE-4243    Closed      Fixed  28/Mar/13 15:02                 2.0.0   \n",
      "1855   HIVE-1863    Closed  Duplicate  23/Dec/10 04:02                 0.7.0   \n",
      "\n",
      "               Affects Versions Combined  \n",
      "0                                  4.0.0  \n",
      "1                                  4.0.0  \n",
      "2                                  4.0.0  \n",
      "3                                  4.0.0  \n",
      "4                                  3.1.3  \n",
      "...                                  ...  \n",
      "1851                       0.13.1, 2.0.0  \n",
      "1852  0.14.0, 1.0.0, 1.1.0, 1.2.0, 2.0.0  \n",
      "1853                               2.1.0  \n",
      "1854                        1.3.0, 2.0.0  \n",
      "1855                               2.0.0  \n",
      "\n",
      "[1856 rows x 6 columns]>\n"
     ]
    }
   ],
   "execution_count": 5
  },
  {
   "cell_type": "code",
   "source": [
    "df_merged.to_csv('filtered_data.csv')"
   ],
   "metadata": {
    "collapsed": false,
    "ExecuteTime": {
     "end_time": "2024-10-31T21:44:23.071707Z",
     "start_time": "2024-10-31T21:44:23.063286Z"
    }
   },
   "id": "acb762f8d0c89125",
   "outputs": [],
   "execution_count": 6
  },
  {
   "metadata": {},
   "cell_type": "markdown",
   "source": [
    "---\n",
    "GIT RESEARCH\n",
    "---\n",
    "\n"
   ],
   "id": "ca29de2013182e6e"
  },
  {
   "metadata": {
    "ExecuteTime": {
     "end_time": "2024-10-31T21:44:23.090857Z",
     "start_time": "2024-10-31T21:44:23.087048Z"
    }
   },
   "cell_type": "code",
   "source": [
    "repo_path = r'C:\\Users\\moshi\\Documents\\projects\\Informatique\\ETS\\MGL869\\hive'\n",
    "output_dir = 'commit_files'\n",
    "os.makedirs(output_dir, exist_ok=True)"
   ],
   "id": "56f937962241967b",
   "outputs": [],
   "execution_count": 7
  },
  {
   "metadata": {
    "ExecuteTime": {
     "end_time": "2024-10-31T21:44:23.111337Z",
     "start_time": "2024-10-31T21:44:23.105487Z"
    }
   },
   "cell_type": "code",
   "source": "repo = git.Repo(repo_path)",
   "id": "b7b860ca69eabcc3",
   "outputs": [],
   "execution_count": 8
  },
  {
   "metadata": {
    "ExecuteTime": {
     "end_time": "2024-10-31T21:44:24.202502Z",
     "start_time": "2024-10-31T21:44:23.127346Z"
    }
   },
   "cell_type": "code",
   "source": [
    "# Fully load commits to avoid lazy-loading issues\n",
    "commit_cache = {commit.hexsha: commit for commit in list(repo.iter_commits())}\n",
    "# Ensure all commit messages are loaded\n",
    "for commit in commit_cache.values():\n",
    "    _ = commit.message"
   ],
   "id": "9c85f0b10b601b11",
   "outputs": [],
   "execution_count": 9
  },
  {
   "metadata": {
    "ExecuteTime": {
     "end_time": "2024-10-31T21:44:24.222340Z",
     "start_time": "2024-10-31T21:44:24.219063Z"
    }
   },
   "cell_type": "code",
   "source": [
    "# Function to find commits for a bug using the cache\n",
    "def find_commits_for_bug(bug_id):\n",
    "    return [commit for commit in commit_cache.values() if bug_id in commit.message]\n"
   ],
   "id": "f001b1c19dc2a3ec",
   "outputs": [],
   "execution_count": 10
  },
  {
   "metadata": {
    "ExecuteTime": {
     "end_time": "2024-10-31T21:44:24.242831Z",
     "start_time": "2024-10-31T21:44:24.238272Z"
    }
   },
   "cell_type": "code",
   "source": [
    "# Asynchronous function to process each bug\n",
    "semaphore = asyncio.Semaphore(20)  # Adjust the limit as needed\n",
    "async def process_bug(bug_id: str, output_dir: str):\n",
    "    async with semaphore:\n",
    "        commits = await asyncio.to_thread(find_commits_for_bug, bug_id)\n",
    "        for commit in commits:\n",
    "            filename = f\"{bug_id}_{commit.hexsha}.txt\"\n",
    "            filepath = os.path.join(output_dir, filename)\n",
    "\n",
    "            async with aiofiles.open(filepath, 'w') as file:\n",
    "                await file.write(f\"Bug ID: {bug_id}\\n\")\n",
    "                await file.write(f\"Commit: {commit.hexsha}\\n\")\n",
    "                await file.write(\"Modified files:\\n\")\n",
    "                for file_path in commit.stats.files:\n",
    "                    await file.write(f\"  {file_path}\\n\")\n"
   ],
   "id": "d7625e17f335d71f",
   "outputs": [],
   "execution_count": 11
  },
  {
   "metadata": {
    "ExecuteTime": {
     "end_time": "2024-10-31T21:46:01.548530Z",
     "start_time": "2024-10-31T21:44:24.260160Z"
    }
   },
   "cell_type": "code",
   "source": [
    "# Main async function to run tasks concurrently\n",
    "async def main():\n",
    "    # Efficiently delete and recreate the output directory\n",
    "    if os.path.exists(output_dir):\n",
    "        shutil.rmtree(output_dir)\n",
    "    os.makedirs(output_dir)\n",
    "\n",
    "    tasks = []\n",
    "    for i, bug_id in enumerate(df_merged['Issue key']):\n",
    "        if i % 50 == 0:\n",
    "            print(i)\n",
    "        tasks.append(process_bug(bug_id, output_dir))\n",
    "\n",
    "    # Run all tasks concurrently\n",
    "    # Divide tasks into chunks of 100 to limit memory and CPU usage\n",
    "    chunk_size = 100\n",
    "    for i in range(0, len(tasks), chunk_size):\n",
    "        await asyncio.gather(*tasks[i:i + chunk_size])\n",
    "\n",
    "# Run the async main function\n",
    "await main()"
   ],
   "id": "a348b0df8e3a5b0d",
   "outputs": [
    {
     "name": "stdout",
     "output_type": "stream",
     "text": [
      "0\n",
      "50\n",
      "100\n",
      "150\n",
      "200\n",
      "250\n",
      "300\n",
      "350\n",
      "400\n",
      "450\n",
      "500\n",
      "550\n",
      "600\n",
      "650\n",
      "700\n",
      "750\n",
      "800\n",
      "850\n",
      "900\n",
      "950\n",
      "1000\n",
      "1050\n",
      "1100\n",
      "1150\n",
      "1200\n",
      "1250\n",
      "1300\n",
      "1350\n",
      "1400\n",
      "1450\n",
      "1500\n",
      "1550\n",
      "1600\n",
      "1650\n",
      "1700\n",
      "1750\n",
      "1800\n",
      "1850\n"
     ]
    }
   ],
   "execution_count": 12
  }
 ],
 "metadata": {
  "kernelspec": {
   "display_name": "Python 3",
   "language": "python",
   "name": "python3"
  },
  "language_info": {
   "codemirror_mode": {
    "name": "ipython",
    "version": 2
   },
   "file_extension": ".py",
   "mimetype": "text/x-python",
   "name": "python",
   "nbconvert_exporter": "python",
   "pygments_lexer": "ipython2",
   "version": "2.7.6"
  }
 },
 "nbformat": 4,
 "nbformat_minor": 5
}
