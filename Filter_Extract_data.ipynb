{
 "cells": [
  {
   "metadata": {},
   "cell_type": "markdown",
   "source": "# Code to filter and extract data from CSV files and then search for HIVE-X keys in the git repository.",
   "id": "b314d060315a4043"
  },
  {
   "metadata": {},
   "cell_type": "markdown",
   "source": [
    "---\n",
    "## Data cleaning"
   ],
   "id": "7b51432057007d2a"
  },
  {
   "cell_type": "code",
   "id": "initial_id",
   "metadata": {
    "collapsed": true,
    "ExecuteTime": {
     "end_time": "2024-11-01T01:31:31.488219Z",
     "start_time": "2024-11-01T01:31:31.484685Z"
    }
   },
   "source": [
    "import pandas as pd\n",
    "import os\n",
    "import git\n",
    "import re\n",
    "from multiprocessing import Pool, cpu_count"
   ],
   "outputs": [],
   "execution_count": 12
  },
  {
   "cell_type": "code",
   "source": [
    "folder_path = 'CSV exported'\n",
    "# Lire tous les fichiers CSV du dossier\n",
    "csv_files = [os.path.join(folder_path, file) for file in os.listdir(folder_path) if file.endswith('.csv')]"
   ],
   "metadata": {
    "collapsed": false,
    "ExecuteTime": {
     "end_time": "2024-11-01T01:30:15.310608Z",
     "start_time": "2024-11-01T01:30:15.306124Z"
    }
   },
   "id": "457d628e40d96f19",
   "outputs": [],
   "execution_count": 2
  },
  {
   "cell_type": "code",
   "source": [
    "dataframes = [pd.read_csv(file, sep=\"^\") for file in csv_files]\n",
    "dataframes_filtered = []\n",
    "for df in dataframes:\n",
    "    fix_version_columns = [col for col in df.columns if col.startswith('Fix Version/s')]\n",
    "    affects_version_columns = [col for col in df.columns if col.startswith('Affects Version/s')]\n",
    "\n",
    "    df['Fix Versions Combined'] = df[fix_version_columns].apply(lambda x: ', '.join(x.dropna().astype(str)), axis=1)\n",
    "    df['Affects Versions Combined'] = df[affects_version_columns].apply(lambda x: ', '.join(x.dropna().astype(str)),\n",
    "                                                                        axis=1)\n",
    "\n",
    "    # Supprimer les colonnes originales\n",
    "    df = df.drop(fix_version_columns, axis=1)\n",
    "    df = df.drop(affects_version_columns, axis=1)\n",
    "\n",
    "    keep: list = ['Issue key', 'Status', 'Resolution', 'Created', 'Fix Versions Combined', 'Affects Versions Combined']\n",
    "    df = df.loc[:, keep]\n",
    "    print(len(df.columns))\n",
    "\n",
    "    dataframes_filtered.append(df)"
   ],
   "metadata": {
    "collapsed": false,
    "ExecuteTime": {
     "end_time": "2024-11-01T01:30:16.135621Z",
     "start_time": "2024-11-01T01:30:15.501155Z"
    }
   },
   "id": "4547de117cbbed",
   "outputs": [
    {
     "name": "stdout",
     "output_type": "stream",
     "text": [
      "6\n",
      "6\n"
     ]
    }
   ],
   "execution_count": 3
  },
  {
   "cell_type": "code",
   "source": [
    "df_merged = pd.concat(dataframes_filtered, ignore_index=True, sort=False)"
   ],
   "metadata": {
    "collapsed": false,
    "ExecuteTime": {
     "end_time": "2024-11-01T01:30:16.164324Z",
     "start_time": "2024-11-01T01:30:16.160330Z"
    }
   },
   "id": "6b987d3d55b2c34e",
   "outputs": [],
   "execution_count": 4
  },
  {
   "cell_type": "code",
   "source": "df_merged.to_csv('filtered_data.csv')",
   "metadata": {
    "collapsed": false,
    "ExecuteTime": {
     "end_time": "2024-11-01T01:30:16.187337Z",
     "start_time": "2024-11-01T01:30:16.179006Z"
    }
   },
   "id": "acb762f8d0c89125",
   "outputs": [],
   "execution_count": 5
  },
  {
   "metadata": {},
   "cell_type": "markdown",
   "source": [
    "---\n",
    "\n",
    "## Extract"
   ],
   "id": "e251852981aa0922"
  },
  {
   "metadata": {
    "ExecuteTime": {
     "end_time": "2024-11-01T01:30:16.205941Z",
     "start_time": "2024-11-01T01:30:16.201470Z"
    }
   },
   "cell_type": "code",
   "source": [
    "# Create a set of all the ids\n",
    "ids = set(df_merged[df_merged.columns[df_merged.columns.str.contains('Issue key')]].values.flatten())"
   ],
   "id": "9b74ac9d32cb1241",
   "outputs": [],
   "execution_count": 6
  },
  {
   "metadata": {},
   "cell_type": "markdown",
   "source": [
    "---\n",
    "GIT RESEARCH\n",
    "---\n",
    "\n"
   ],
   "id": "ca29de2013182e6e"
  },
  {
   "metadata": {
    "ExecuteTime": {
     "end_time": "2024-11-01T01:30:16.223814Z",
     "start_time": "2024-11-01T01:30:16.220778Z"
    }
   },
   "cell_type": "code",
   "source": [
    "repo_path = r'C:\\Users\\moshi\\Documents\\projects\\Informatique\\ETS\\MGL869\\hive'\n",
    "repo_url = 'git@github.com:apache/hive.git'"
   ],
   "id": "56f937962241967b",
   "outputs": [],
   "execution_count": 7
  },
  {
   "metadata": {
    "ExecuteTime": {
     "end_time": "2024-11-01T01:30:16.241201Z",
     "start_time": "2024-11-01T01:30:16.236887Z"
    }
   },
   "cell_type": "code",
   "source": "pattern = re.compile(r'HIVE-(\\d{3,5})')",
   "id": "3041320021888d69",
   "outputs": [],
   "execution_count": 8
  },
  {
   "metadata": {
    "ExecuteTime": {
     "end_time": "2024-11-01T01:30:16.262135Z",
     "start_time": "2024-11-01T01:30:16.255841Z"
    }
   },
   "cell_type": "code",
   "source": [
    "# Check if repo exists\n",
    "if not os.path.exists(repo_path) or not os.path.exists(os.path.join(repo_path, '.git')):\n",
    "    repo = git.Repo.clone_from(repo_url, repo_path)\n",
    "else:\n",
    "    repo = git.Repo(repo_path)"
   ],
   "id": "ac4745f4e75f046c",
   "outputs": [],
   "execution_count": 9
  },
  {
   "metadata": {
    "ExecuteTime": {
     "end_time": "2024-11-01T01:31:31.415035Z",
     "start_time": "2024-11-01T01:30:16.276172Z"
    }
   },
   "cell_type": "code",
   "source": [
    "couples = []\n",
    "for commit in repo.iter_commits():\n",
    "    matches = pattern.findall(commit.message)\n",
    "    for match in matches:\n",
    "        hive_key = f'HIVE-{match}'\n",
    "        if hive_key in ids:\n",
    "            for file in commit.stats.files.keys():\n",
    "                couples.append((hive_key, file))"
   ],
   "id": "9c85f0b10b601b11",
   "outputs": [],
   "execution_count": 10
  },
  {
   "metadata": {
    "ExecuteTime": {
     "end_time": "2024-11-01T01:31:31.469270Z",
     "start_time": "2024-11-01T01:31:31.430348Z"
    }
   },
   "cell_type": "code",
   "source": [
    "df_couples = pd.DataFrame(couples, columns=['Issue Key', 'File'])\n",
    "# Save the DataFrame to a CSV file\n",
    "df_couples.to_csv('couples.csv', index=False)"
   ],
   "id": "d7625e17f335d71f",
   "outputs": [],
   "execution_count": 11
  }
 ],
 "metadata": {
  "kernelspec": {
   "display_name": "Python 3",
   "language": "python",
   "name": "python3"
  },
  "language_info": {
   "codemirror_mode": {
    "name": "ipython",
    "version": 2
   },
   "file_extension": ".py",
   "mimetype": "text/x-python",
   "name": "python",
   "nbconvert_exporter": "python",
   "pygments_lexer": "ipython2",
   "version": "2.7.6"
  }
 },
 "nbformat": 4,
 "nbformat_minor": 5
}
